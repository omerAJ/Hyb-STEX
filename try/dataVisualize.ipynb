{
 "cells": [
  {
   "cell_type": "code",
   "execution_count": null,
   "metadata": {},
   "outputs": [],
   "source": [
    "import numpy as np\n",
    "\n",
    "data = np.load('./BJTaxi/train.npz')\n",
    "for file in data.files:\n",
    "    print(file, data[file].shape)"
   ]
  }
 ],
 "metadata": {
  "kernelspec": {
   "display_name": "ST-SSL",
   "language": "python",
   "name": "python3"
  },
  "language_info": {
   "name": "python",
   "version": "3.8.18"
  }
 },
 "nbformat": 4,
 "nbformat_minor": 2
}
