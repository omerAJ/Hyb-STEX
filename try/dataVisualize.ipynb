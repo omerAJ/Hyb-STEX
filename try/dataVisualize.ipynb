{
 "cells": [
  {
   "cell_type": "code",
   "execution_count": 4,
   "metadata": {},
   "outputs": [
    {
     "name": "stdout",
     "output_type": "stream",
     "text": [
      "(2160, 15, 19, 1)\n"
     ]
    }
   ],
   "source": [
    "import numpy as np\n",
    "\n",
    "data = np.load(\"D:\\omer\\Spatial_Master_Grid_15x19(60_min_resolution).npy\", allow_pickle=True)\n",
    "\n",
    "print(data.shape)"
   ]
  },
  {
   "cell_type": "code",
   "execution_count": 2,
   "metadata": {},
   "outputs": [
    {
     "name": "stdout",
     "output_type": "stream",
     "text": [
      "x (3023, 19, 128, 2)\n",
      "y (3023, 1, 128, 2)\n",
      "x_offsets (19, 1)\n",
      "y_offsets (1, 1)\n"
     ]
    }
   ],
   "source": [
    "import numpy as np\n",
    "\n",
    "data = np.load('D:\\\\omer\\\\ST-SSL\\\\data\\\\NYCBike1\\\\train.npz')\n",
    "for file in data.files:\n",
    "    print(file, data[file].shape)"
   ]
  },
  {
   "cell_type": "code",
   "execution_count": 3,
   "metadata": {},
   "outputs": [
    {
     "name": "stdout",
     "output_type": "stream",
     "text": [
      "(285, 285)\n"
     ]
    }
   ],
   "source": [
    "import numpy as np\n",
    "adj = np.load('D:\\\\omer\\\\ST-SSL\\\\data\\\\Careem\\\\adj_matrix.npy')\n",
    "np.set_printoptions(threshold=np.inf)\n",
    "print(adj.shape)\n"
   ]
  },
  {
   "cell_type": "code",
   "execution_count": null,
   "metadata": {},
   "outputs": [],
   "source": []
  }
 ],
 "metadata": {
  "kernelspec": {
   "display_name": "ST-SSL",
   "language": "python",
   "name": "python3"
  },
  "language_info": {
   "codemirror_mode": {
    "name": "ipython",
    "version": 3
   },
   "file_extension": ".py",
   "mimetype": "text/x-python",
   "name": "python",
   "nbconvert_exporter": "python",
   "pygments_lexer": "ipython3",
   "version": "3.11.5"
  }
 },
 "nbformat": 4,
 "nbformat_minor": 2
}
