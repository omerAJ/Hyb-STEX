{
 "cells": [
  {
   "cell_type": "code",
   "execution_count": null,
   "metadata": {},
   "outputs": [],
   "source": [
    "import numpy as np\n",
    "\n",
    "def load_and_inspect_data(file_path):\n",
    "    data = np.load(file_path, allow_pickle=True)\n",
    "    for key in data:\n",
    "        print(f\"\\nKey: {key}\")\n",
    "        print(f\"Shape: {data[key].shape}\")\n",
    "        print(f\"Data Type: {data[key].dtype}\")\n",
    "        print(f\"Sample Data: \\n{data[key][0]}\")\n",
    "    return data\n",
    "\n",
    "# Load and inspect each dataset file\n",
    "print(\"Loading and inspecting train.npz\")\n",
    "train_data = load_and_inspect_data('train.npz')\n",
    "\n",
    "print(\"\\nLoading and inspecting val.npz\")\n",
    "val_data = load_and_inspect_data('val.npz')\n",
    "\n",
    "print(\"\\nLoading and inspecting test.npz\")\n",
    "test_data = load_and_inspect_data('test.npz')\n",
    "\n",
    "print(\"\\nLoading and inspecting adj_mx.npz\")\n",
    "adjacency_matrix = load_and_inspect_data('adj_mx.npz')['adj_mx']\n",
    "\n",
    "# Additional interpretation\n",
    "print(\"\\nAdditional Interpretation:\")\n",
    "print(\"\\nThe 'X' tensor represents the input data with dimensions (#samples, #lookback_window, #nodes, #flow_types).\")\n",
    "print(\"The 'Y' tensor represents the data to be predicted, with similar dimensions as 'X'.\")\n",
    "print(\"The 'X_offset' and 'Y_offset' lists provide the relative time offsets for the data.\")\n",
    "print(\"The adjacency matrix defines the spatial relationship between different nodes/regions.\")\n",
    "\n"
   ]
  }
 ],
 "metadata": {
  "kernelspec": {
   "display_name": "ST-SSL",
   "language": "python",
   "name": "python3"
  },
  "language_info": {
   "name": "python",
   "version": "3.8.18"
  }
 },
 "nbformat": 4,
 "nbformat_minor": 2
}
