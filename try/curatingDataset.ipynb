{
 "cells": [
  {
   "cell_type": "code",
   "execution_count": 4,
   "metadata": {},
   "outputs": [
    {
     "name": "stdout",
     "output_type": "stream",
     "text": [
      "data_careem.shape:  (2160, 15, 19, 1)\n",
      "x (3023, 19, 128, 2)\n",
      "y (3023, 1, 128, 2)\n",
      "x_offsets (19, 1)\n",
      "y_offsets (1, 1)\n"
     ]
    }
   ],
   "source": [
    "import numpy as np\n",
    "\n",
    "data_careem = np.load(\"D:\\omer\\Spatial_Master_Grid_15x19(60_min_resolution).npy\", allow_pickle=True)\n",
    "\n",
    "print(\"data_careem.shape: \", data_careem.shape)\n",
    "data_NYC = np.load('D:\\\\omer\\\\ST-SSL\\\\data\\\\NYCBike1\\\\train.npz')\n",
    "for file in data_NYC.files:\n",
    "    print(file, data_NYC[file].shape)"
   ]
  },
  {
   "cell_type": "code",
   "execution_count": 14,
   "metadata": {},
   "outputs": [
    {
     "data": {
      "text/plain": [
       "array([[1]], dtype=int64)"
      ]
     },
     "execution_count": 14,
     "metadata": {},
     "output_type": "execute_result"
    }
   ],
   "source": [
    "data_NYC[\"y_offsets\"]"
   ]
  },
  {
   "cell_type": "code",
   "execution_count": 16,
   "metadata": {},
   "outputs": [
    {
     "data": {
      "text/plain": [
       "(2160, 285, 1)"
      ]
     },
     "execution_count": 16,
     "metadata": {},
     "output_type": "execute_result"
    }
   ],
   "source": [
    "reshaped_data_careem.shape"
   ]
  },
  {
   "cell_type": "markdown",
   "metadata": {},
   "source": [
    "The train/val/test data is composed of 4 numpy.ndarray objects:\n",
    "\n",
    "X: input data. It is a 4D tensor of shape (#samples, #lookback_window, #nodes, #flow_types), where # denotes the number sign.\n",
    "<br>Y: data to be predicted. It is a 4D tensor of shape (#samples, #predict_horizon, #nodes, #flow_types). Note that X and Y are paired in the sample dimension. For instance, (X_i, Y_i) is the i-the data sample with i indexing the sample dimension.\n",
    "<br>X_offset: a list indicating offsets of X's lookback window relative to the current time with offset 0.\n",
    "<br>Y_offset: a list indicating offsets of Y's prediction horizon relative to the current time with offset 0."
   ]
  },
  {
   "cell_type": "code",
   "execution_count": 1,
   "metadata": {},
   "outputs": [
    {
     "name": "stdout",
     "output_type": "stream",
     "text": [
      "[[0. 1. 0. ... 0. 0. 0.]\n",
      " [1. 0. 1. ... 0. 0. 0.]\n",
      " [0. 1. 0. ... 0. 0. 0.]\n",
      " ...\n",
      " [0. 0. 0. ... 0. 1. 0.]\n",
      " [0. 0. 0. ... 1. 0. 1.]\n",
      " [0. 0. 0. ... 0. 1. 0.]]\n"
     ]
    }
   ],
   "source": [
    "import networkx as nx\n",
    "import numpy as np\n",
    "\n",
    "# Create a 15x19 grid graph\n",
    "G = nx.grid_2d_graph(15, 19)\n",
    "\n",
    "# Create an empty adjacency matrix\n",
    "adj_matrix = np.zeros((15*19, 15*19))\n",
    "\n",
    "# Iterate over all nodes in the grid\n",
    "for node in G.nodes:\n",
    "    # Get the row and column indices of the current node\n",
    "    row, col = node\n",
    "    \n",
    "    # Iterate over the 8 neighbors of the current node\n",
    "    for i in range(-1, 2):\n",
    "        for j in range(-1, 2):\n",
    "            # Skip the current node itself\n",
    "            if i == 0 and j == 0:\n",
    "                continue\n",
    "            \n",
    "            # Calculate the row and column indices of the neighbor\n",
    "            neighbor_row = row + i\n",
    "            neighbor_col = col + j\n",
    "            \n",
    "            # Check if the neighbor is within the grid boundaries\n",
    "            if 0 <= neighbor_row < 15 and 0 <= neighbor_col < 19:\n",
    "                # Calculate the indices of the current node and the neighbor in the adjacency matrix\n",
    "                node_index = row * 19 + col\n",
    "                neighbor_index = neighbor_row * 19 + neighbor_col\n",
    "                \n",
    "                # Set the corresponding entry in the adjacency matrix to 1\n",
    "                adj_matrix[node_index, neighbor_index] = 1\n",
    "\n",
    "# Print the adjacency matrix\n",
    "print(adj_matrix)\n"
   ]
  },
  {
   "cell_type": "code",
   "execution_count": 9,
   "metadata": {},
   "outputs": [],
   "source": [
    "np.savez('D:\\\\omer\\\\ST-SSL\\\\data\\\\Careem\\\\adj_matrix.npz', adj_matrix=adj_matrix)\n"
   ]
  },
  {
   "cell_type": "code",
   "execution_count": 7,
   "metadata": {},
   "outputs": [
    {
     "name": "stdout",
     "output_type": "stream",
     "text": [
      "reshaped_data_careem.shape:  (2160, 285, 1)\n"
     ]
    }
   ],
   "source": [
    "reshaped_data_careem = data_careem.reshape(data_careem.shape[0], -1, 1)\n",
    "print(\"reshaped_data_careem.shape: \", reshaped_data_careem.shape)  ## #samples, #nodes, demand\n"
   ]
  },
  {
   "cell_type": "code",
   "execution_count": 18,
   "metadata": {},
   "outputs": [
    {
     "name": "stdout",
     "output_type": "stream",
     "text": [
      "reshaped_data_careem_2.shape:  (2160, 1, 285, 1)\n"
     ]
    }
   ],
   "source": [
    "reshaped_data_careem_2 = np.expand_dims(reshaped_data_careem, axis=1)\n",
    "print(\"reshaped_data_careem_2.shape: \", reshaped_data_careem_2.shape)  ## #samples, #lookback_window #nodes, demand"
   ]
  },
  {
   "cell_type": "code",
   "execution_count": null,
   "metadata": {},
   "outputs": [],
   "source": []
  }
 ],
 "metadata": {
  "kernelspec": {
   "display_name": "i-jepaVENV",
   "language": "python",
   "name": "python3"
  },
  "language_info": {
   "codemirror_mode": {
    "name": "ipython",
    "version": 3
   },
   "file_extension": ".py",
   "mimetype": "text/x-python",
   "name": "python",
   "nbconvert_exporter": "python",
   "pygments_lexer": "ipython3",
   "version": "3.11.5"
  }
 },
 "nbformat": 4,
 "nbformat_minor": 2
}
