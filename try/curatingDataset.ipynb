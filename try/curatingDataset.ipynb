{
 "cells": [
  {
   "cell_type": "code",
   "execution_count": 4,
   "metadata": {},
   "outputs": [
    {
     "name": "stdout",
     "output_type": "stream",
     "text": [
      "data_careem.shape:  (2160, 15, 19, 1)\n",
      "x (3023, 19, 128, 2)\n",
      "y (3023, 1, 128, 2)\n",
      "x_offsets (19, 1)\n",
      "y_offsets (1, 1)\n"
     ]
    }
   ],
   "source": [
    "import numpy as np\n",
    "\n",
    "data_careem = np.load(\"D:\\omer\\Spatial_Master_Grid_15x19(60_min_resolution).npy\", allow_pickle=True)\n",
    "\n",
    "print(\"data_careem.shape: \", data_careem.shape)\n",
    "data_NYC = np.load('D:\\\\omer\\\\ST-SSL\\\\data\\\\NYCBike1\\\\train.npz')\n",
    "for file in data_NYC.files:\n",
    "    print(file, data_NYC[file].shape)"
   ]
  },
  {
   "cell_type": "code",
   "execution_count": 21,
   "metadata": {},
   "outputs": [
    {
     "name": "stdout",
     "output_type": "stream",
     "text": [
      "[[-73]\n",
      " [-72]\n",
      " [-71]\n",
      " [-70]\n",
      " [-69]\n",
      " [-49]\n",
      " [-48]\n",
      " [-47]\n",
      " [-46]\n",
      " [-45]\n",
      " [-25]\n",
      " [-24]\n",
      " [-23]\n",
      " [-22]\n",
      " [-21]\n",
      " [ -3]\n",
      " [ -2]\n",
      " [ -1]\n",
      " [  0]]\n"
     ]
    }
   ],
   "source": [
    "indices = data_NYC[\"x_offsets\"]\n",
    "print(indices)"
   ]
  },
  {
   "cell_type": "code",
   "execution_count": 16,
   "metadata": {},
   "outputs": [
    {
     "data": {
      "text/plain": [
       "(2160, 285, 1)"
      ]
     },
     "execution_count": 16,
     "metadata": {},
     "output_type": "execute_result"
    }
   ],
   "source": [
    "reshaped_data_careem.shape"
   ]
  },
  {
   "cell_type": "markdown",
   "metadata": {},
   "source": [
    "The train/val/test data is composed of 4 numpy.ndarray objects:\n",
    "\n",
    "X: input data. It is a 4D tensor of shape (#samples, #lookback_window, #nodes, #flow_types), where # denotes the number sign.\n",
    "<br>Y: data to be predicted. It is a 4D tensor of shape (#samples, #predict_horizon, #nodes, #flow_types). Note that X and Y are paired in the sample dimension. For instance, (X_i, Y_i) is the i-the data sample with i indexing the sample dimension.\n",
    "<br>X_offset: a list indicating offsets of X's lookback window relative to the current time with offset 0.\n",
    "<br>Y_offset: a list indicating offsets of Y's prediction horizon relative to the current time with offset 0."
   ]
  },
  {
   "cell_type": "code",
   "execution_count": 1,
   "metadata": {},
   "outputs": [
    {
     "name": "stdout",
     "output_type": "stream",
     "text": [
      "[[0. 1. 0. ... 0. 0. 0.]\n",
      " [1. 0. 1. ... 0. 0. 0.]\n",
      " [0. 1. 0. ... 0. 0. 0.]\n",
      " ...\n",
      " [0. 0. 0. ... 0. 1. 0.]\n",
      " [0. 0. 0. ... 1. 0. 1.]\n",
      " [0. 0. 0. ... 0. 1. 0.]]\n"
     ]
    }
   ],
   "source": [
    "import networkx as nx\n",
    "import numpy as np\n",
    "\n",
    "# Create a 15x19 grid graph\n",
    "G = nx.grid_2d_graph(15, 19)\n",
    "\n",
    "# Create an empty adjacency matrix\n",
    "adj_matrix = np.zeros((15*19, 15*19))\n",
    "\n",
    "# Iterate over all nodes in the grid\n",
    "for node in G.nodes:\n",
    "    # Get the row and column indices of the current node\n",
    "    row, col = node\n",
    "    \n",
    "    # Iterate over the 8 neighbors of the current node\n",
    "    for i in range(-1, 2):\n",
    "        for j in range(-1, 2):\n",
    "            # Skip the current node itself\n",
    "            if i == 0 and j == 0:\n",
    "                continue\n",
    "            \n",
    "            # Calculate the row and column indices of the neighbor\n",
    "            neighbor_row = row + i\n",
    "            neighbor_col = col + j\n",
    "            \n",
    "            # Check if the neighbor is within the grid boundaries\n",
    "            if 0 <= neighbor_row < 15 and 0 <= neighbor_col < 19:\n",
    "                # Calculate the indices of the current node and the neighbor in the adjacency matrix\n",
    "                node_index = row * 19 + col\n",
    "                neighbor_index = neighbor_row * 19 + neighbor_col\n",
    "                \n",
    "                # Set the corresponding entry in the adjacency matrix to 1\n",
    "                adj_matrix[node_index, neighbor_index] = 1\n",
    "\n",
    "# Print the adjacency matrix\n",
    "print(adj_matrix)\n"
   ]
  },
  {
   "cell_type": "code",
   "execution_count": 50,
   "metadata": {},
   "outputs": [],
   "source": [
    "np.savez('D:\\\\omer\\\\ST-SSL\\\\data\\\\Careem\\\\adj_matrix.npz', adj_mx=adj_matrix)\n"
   ]
  },
  {
   "cell_type": "code",
   "execution_count": 7,
   "metadata": {},
   "outputs": [
    {
     "name": "stdout",
     "output_type": "stream",
     "text": [
      "reshaped_data_careem.shape:  (2160, 285, 1)\n"
     ]
    }
   ],
   "source": [
    "reshaped_data_careem = data_careem.reshape(data_careem.shape[0], -1, 1)\n",
    "print(\"reshaped_data_careem.shape: \", reshaped_data_careem.shape)  ## #samples, #nodes, demand\n"
   ]
  },
  {
   "cell_type": "code",
   "execution_count": 18,
   "metadata": {},
   "outputs": [
    {
     "name": "stdout",
     "output_type": "stream",
     "text": [
      "reshaped_data_careem_2.shape:  (2160, 1, 285, 1)\n"
     ]
    }
   ],
   "source": [
    "reshaped_data_careem_2 = np.expand_dims(reshaped_data_careem, axis=1)\n",
    "print(\"reshaped_data_careem_2.shape: \", reshaped_data_careem_2.shape)  ## #samples, #lookback_window #nodes, demand"
   ]
  },
  {
   "cell_type": "code",
   "execution_count": 34,
   "metadata": {},
   "outputs": [
    {
     "name": "stdout",
     "output_type": "stream",
     "text": [
      "(285, 1)\n"
     ]
    },
    {
     "data": {
      "text/plain": [
       "array([[  0.],\n",
       "       [  0.],\n",
       "       [  4.],\n",
       "       [  0.],\n",
       "       [  0.],\n",
       "       [  0.],\n",
       "       [  0.],\n",
       "       [  0.],\n",
       "       [  0.],\n",
       "       [  0.],\n",
       "       [  1.],\n",
       "       [  0.],\n",
       "       [  1.],\n",
       "       [  0.],\n",
       "       [  0.],\n",
       "       [  0.],\n",
       "       [  0.],\n",
       "       [  0.],\n",
       "       [  0.],\n",
       "       [  0.],\n",
       "       [ 60.],\n",
       "       [  0.],\n",
       "       [  0.],\n",
       "       [  0.],\n",
       "       [  0.],\n",
       "       [  0.],\n",
       "       [  1.],\n",
       "       [  2.],\n",
       "       [  1.],\n",
       "       [  0.],\n",
       "       [  0.],\n",
       "       [  0.],\n",
       "       [  0.],\n",
       "       [  0.],\n",
       "       [  1.],\n",
       "       [  0.],\n",
       "       [  0.],\n",
       "       [ 12.],\n",
       "       [  0.],\n",
       "       [  2.],\n",
       "       [  0.],\n",
       "       [  2.],\n",
       "       [  0.],\n",
       "       [  0.],\n",
       "       [  0.],\n",
       "       [  0.],\n",
       "       [  2.],\n",
       "       [  1.],\n",
       "       [  0.],\n",
       "       [  0.],\n",
       "       [  0.],\n",
       "       [105.],\n",
       "       [  2.],\n",
       "       [  2.],\n",
       "       [  0.],\n",
       "       [  0.],\n",
       "       [  0.],\n",
       "       [  0.],\n",
       "       [  4.],\n",
       "       [  1.],\n",
       "       [  0.],\n",
       "       [  0.],\n",
       "       [  0.],\n",
       "       [  0.],\n",
       "       [  0.],\n",
       "       [  0.],\n",
       "       [  0.],\n",
       "       [  0.],\n",
       "       [  2.],\n",
       "       [  0.],\n",
       "       [  0.],\n",
       "       [  0.],\n",
       "       [  0.],\n",
       "       [  0.],\n",
       "       [  0.],\n",
       "       [  0.],\n",
       "       [  0.],\n",
       "       [  2.],\n",
       "       [  0.],\n",
       "       [  2.],\n",
       "       [  0.],\n",
       "       [  0.],\n",
       "       [  0.],\n",
       "       [  0.],\n",
       "       [  0.],\n",
       "       [  0.],\n",
       "       [  0.],\n",
       "       [  0.],\n",
       "       [  0.],\n",
       "       [  0.],\n",
       "       [  0.],\n",
       "       [  0.],\n",
       "       [  2.],\n",
       "       [  0.],\n",
       "       [  0.],\n",
       "       [  0.],\n",
       "       [  0.],\n",
       "       [  0.],\n",
       "       [  0.],\n",
       "       [  0.],\n",
       "       [  0.],\n",
       "       [  0.],\n",
       "       [  2.],\n",
       "       [  0.],\n",
       "       [ 11.],\n",
       "       [  0.],\n",
       "       [  1.],\n",
       "       [  0.],\n",
       "       [  0.],\n",
       "       [  0.],\n",
       "       [  2.],\n",
       "       [ 28.],\n",
       "       [  3.],\n",
       "       [  0.],\n",
       "       [  0.],\n",
       "       [  0.],\n",
       "       [  0.],\n",
       "       [  0.],\n",
       "       [  2.],\n",
       "       [  9.],\n",
       "       [  0.],\n",
       "       [ 26.],\n",
       "       [  0.],\n",
       "       [  0.],\n",
       "       [  2.],\n",
       "       [  0.],\n",
       "       [  0.],\n",
       "       [  0.],\n",
       "       [  0.],\n",
       "       [  0.],\n",
       "       [  0.],\n",
       "       [  0.],\n",
       "       [  8.],\n",
       "       [  0.],\n",
       "       [ 15.],\n",
       "       [  2.],\n",
       "       [ 18.],\n",
       "       [  0.],\n",
       "       [  0.],\n",
       "       [ 28.],\n",
       "       [  2.],\n",
       "       [  0.],\n",
       "       [  0.],\n",
       "       [ 22.],\n",
       "       [  0.],\n",
       "       [  4.],\n",
       "       [  8.],\n",
       "       [  5.],\n",
       "       [  0.],\n",
       "       [  0.],\n",
       "       [  3.],\n",
       "       [  0.],\n",
       "       [  5.],\n",
       "       [  2.],\n",
       "       [  0.],\n",
       "       [  0.],\n",
       "       [  0.],\n",
       "       [  0.],\n",
       "       [  0.],\n",
       "       [  0.],\n",
       "       [  1.],\n",
       "       [  0.],\n",
       "       [  0.],\n",
       "       [  1.],\n",
       "       [  0.],\n",
       "       [  0.],\n",
       "       [  0.],\n",
       "       [  0.],\n",
       "       [  0.],\n",
       "       [  0.],\n",
       "       [  0.],\n",
       "       [  0.],\n",
       "       [  0.],\n",
       "       [  0.],\n",
       "       [  4.],\n",
       "       [  8.],\n",
       "       [  0.],\n",
       "       [  0.],\n",
       "       [  0.],\n",
       "       [  0.],\n",
       "       [  0.],\n",
       "       [  0.],\n",
       "       [  0.],\n",
       "       [ 12.],\n",
       "       [  0.],\n",
       "       [  3.],\n",
       "       [  0.],\n",
       "       [ 18.],\n",
       "       [  0.],\n",
       "       [  1.],\n",
       "       [  0.],\n",
       "       [  0.],\n",
       "       [  0.],\n",
       "       [  1.],\n",
       "       [  0.],\n",
       "       [  0.],\n",
       "       [  0.],\n",
       "       [  0.],\n",
       "       [  0.],\n",
       "       [  0.],\n",
       "       [  0.],\n",
       "       [  0.],\n",
       "       [  0.],\n",
       "       [  0.],\n",
       "       [  0.],\n",
       "       [  1.],\n",
       "       [  2.],\n",
       "       [  2.],\n",
       "       [  0.],\n",
       "       [  2.],\n",
       "       [  0.],\n",
       "       [  0.],\n",
       "       [  0.],\n",
       "       [  0.],\n",
       "       [  0.],\n",
       "       [  6.],\n",
       "       [  0.],\n",
       "       [  2.],\n",
       "       [  0.],\n",
       "       [  0.],\n",
       "       [  0.],\n",
       "       [  0.],\n",
       "       [  0.],\n",
       "       [  9.],\n",
       "       [  0.],\n",
       "       [  2.],\n",
       "       [  0.],\n",
       "       [  0.],\n",
       "       [  2.],\n",
       "       [  0.],\n",
       "       [  0.],\n",
       "       [  0.],\n",
       "       [  0.],\n",
       "       [  0.],\n",
       "       [  0.],\n",
       "       [  0.],\n",
       "       [  5.],\n",
       "       [  0.],\n",
       "       [  1.],\n",
       "       [  4.],\n",
       "       [  0.],\n",
       "       [  0.],\n",
       "       [  0.],\n",
       "       [  1.],\n",
       "       [  9.],\n",
       "       [  0.],\n",
       "       [  0.],\n",
       "       [  3.],\n",
       "       [  0.],\n",
       "       [  0.],\n",
       "       [  0.],\n",
       "       [  0.],\n",
       "       [  0.],\n",
       "       [  0.],\n",
       "       [  0.],\n",
       "       [  0.],\n",
       "       [  6.],\n",
       "       [  4.],\n",
       "       [  0.],\n",
       "       [  6.],\n",
       "       [  0.],\n",
       "       [  0.],\n",
       "       [  0.],\n",
       "       [  1.],\n",
       "       [  0.],\n",
       "       [  0.],\n",
       "       [  0.],\n",
       "       [  1.],\n",
       "       [  0.],\n",
       "       [  0.],\n",
       "       [  0.],\n",
       "       [  0.],\n",
       "       [  0.],\n",
       "       [  0.],\n",
       "       [  0.],\n",
       "       [  0.],\n",
       "       [ 13.],\n",
       "       [  1.],\n",
       "       [  0.],\n",
       "       [  0.],\n",
       "       [ 10.],\n",
       "       [  1.],\n",
       "       [  0.],\n",
       "       [  0.],\n",
       "       [  2.]])"
      ]
     },
     "execution_count": 34,
     "metadata": {},
     "output_type": "execute_result"
    }
   ],
   "source": [
    "print(reshaped_data_careem_2[-5, 0, :, :].shape)\n",
    "reshaped_data_careem_2[-2, 0, :, :]"
   ]
  },
  {
   "cell_type": "code",
   "execution_count": 44,
   "metadata": {},
   "outputs": [
    {
     "name": "stdout",
     "output_type": "stream",
     "text": [
      "[[-73]\n",
      " [-72]\n",
      " [-71]\n",
      " [-70]\n",
      " [-69]\n",
      " [-49]\n",
      " [-48]\n",
      " [-47]\n",
      " [-46]\n",
      " [-45]\n",
      " [-25]\n",
      " [-24]\n",
      " [-23]\n",
      " [-22]\n",
      " [-21]\n",
      " [ -3]\n",
      " [ -2]\n",
      " [ -1]\n",
      " [  0]]\n"
     ]
    }
   ],
   "source": [
    "## making the lookback window\n",
    "\n",
    "import numpy as np\n",
    "\n",
    "# Assuming original_data is your original tensor with shape (2160, 1, 285, 1)\n",
    "print(indices)\n",
    "# Initialize the target tensor with zeros\n",
    "careem_X = np.zeros((2160-74, 19, 285, 1))\n",
    "careem_Y = np.zeros((2160-74, 1, 285, 1))\n",
    "# Iterate over each sample\n",
    "for i in range(0, 2160-74):\n",
    "    # For each sample, fetch the indices from index_list\n",
    "    \n",
    "    \n",
    "    # Iterate over each index to fill the target tensor\n",
    "    for j, index in enumerate(indices):\n",
    "        # print(index)\n",
    "        # Copy the data from the original tensor to the target tensor\n",
    "        careem_X[i, j, :, :] = reshaped_data_careem_2[i+index+73, 0, :, :]\n",
    "    careem_Y[i, 0, :, :] = reshaped_data_careem_2[i+1+73, 0, :, :]\n"
   ]
  },
  {
   "cell_type": "code",
   "execution_count": 45,
   "metadata": {},
   "outputs": [
    {
     "name": "stdout",
     "output_type": "stream",
     "text": [
      "careem_X.shape:  (2086, 19, 285, 1)\n",
      "careem_Y.shape:  (2086, 1, 285, 1)\n"
     ]
    }
   ],
   "source": [
    "print(\"careem_X.shape: \", careem_X.shape)\n",
    "print(\"careem_Y.shape: \", careem_Y.shape)"
   ]
  },
  {
   "cell_type": "code",
   "execution_count": 47,
   "metadata": {},
   "outputs": [
    {
     "name": "stdout",
     "output_type": "stream",
     "text": [
      "X_train.shape: (1460, 19, 285, 1)\n",
      "Y_train.shape: (1460, 1, 285, 1)\n",
      "X_test.shape: (419, 19, 285, 1)\n",
      "Y_test.shape: (419, 1, 285, 1)\n",
      "X_val.shape: (207, 19, 285, 1)\n",
      "Y_val.shape: (207, 1, 285, 1)\n"
     ]
    }
   ],
   "source": [
    "from sklearn.model_selection import train_test_split\n",
    "\n",
    "# Split the data into train and test sets (70:30 split)\n",
    "X_train, X_test, Y_train, Y_test = train_test_split(careem_X, careem_Y, test_size=0.3, random_state=42)\n",
    "\n",
    "# Split the test set into test and validation sets (50:50 split)\n",
    "X_test, X_val, Y_test, Y_val = train_test_split(X_test, Y_test, test_size=0.33, random_state=42)\n",
    "\n",
    "# Print the shapes of the train, test, and validation sets\n",
    "print(\"X_train.shape:\", X_train.shape)\n",
    "print(\"Y_train.shape:\", Y_train.shape)\n",
    "print(\"X_test.shape:\", X_test.shape)\n",
    "print(\"Y_test.shape:\", Y_test.shape)\n",
    "print(\"X_val.shape:\", X_val.shape)\n",
    "print(\"Y_val.shape:\", Y_val.shape)\n"
   ]
  },
  {
   "cell_type": "code",
   "execution_count": 49,
   "metadata": {},
   "outputs": [],
   "source": [
    "np.savez('D:\\\\omer\\\\ST-SSL\\\\data\\\\Careem\\\\train.npz', x=X_train, y=Y_train)\n",
    "np.savez('D:\\\\omer\\\\ST-SSL\\\\data\\\\Careem\\\\test.npz', x=X_test, y=Y_test)\n",
    "np.savez('D:\\\\omer\\\\ST-SSL\\\\data\\\\Careem\\\\val.npz', x=X_val, y=Y_val)\n"
   ]
  }
 ],
 "metadata": {
  "kernelspec": {
   "display_name": "i-jepaVENV",
   "language": "python",
   "name": "python3"
  },
  "language_info": {
   "codemirror_mode": {
    "name": "ipython",
    "version": 3
   },
   "file_extension": ".py",
   "mimetype": "text/x-python",
   "name": "python",
   "nbconvert_exporter": "python",
   "pygments_lexer": "ipython3",
   "version": "3.11.5"
  }
 },
 "nbformat": 4,
 "nbformat_minor": 2
}
