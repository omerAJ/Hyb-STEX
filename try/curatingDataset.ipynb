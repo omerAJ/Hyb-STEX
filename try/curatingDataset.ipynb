{
 "cells": [
  {
   "cell_type": "code",
   "execution_count": 3,
   "metadata": {},
   "outputs": [
    {
     "name": "stdout",
     "output_type": "stream",
     "text": [
      "data_careem.shape:  (2160, 15, 19, 1)\n",
      "x (3023, 19, 128, 2)\n",
      "y (3023, 1, 128, 2)\n",
      "x_offsets (19, 1)\n",
      "y_offsets (1, 1)\n"
     ]
    }
   ],
   "source": [
    "import numpy as np\n",
    "\n",
    "data_careem = np.load(\"D:\\omer\\Spatial_Master_Grid_15x19(60_min_resolution).npy\", allow_pickle=True)\n",
    "\n",
    "print(\"data_careem.shape: \", data_careem.shape)\n",
    "data_NYC = np.load('D:\\\\omer\\\\ST-SSL\\\\data\\\\NYCBike1\\\\train.npz')\n",
    "for file in data_NYC.files:\n",
    "    print(file, data_NYC[file].shape)"
   ]
  },
  {
   "cell_type": "code",
   "execution_count": 85,
   "metadata": {},
   "outputs": [
    {
     "name": "stdout",
     "output_type": "stream",
     "text": [
      "[[-73]\n",
      " [-72]\n",
      " [-71]\n",
      " [-70]\n",
      " [-69]\n",
      " [-49]\n",
      " [-48]\n",
      " [-47]\n",
      " [-46]\n",
      " [-45]\n",
      " [-25]\n",
      " [-24]\n",
      " [-23]\n",
      " [-22]\n",
      " [-21]\n",
      " [ -3]\n",
      " [ -2]\n",
      " [ -1]\n",
      " [  0]]\n"
     ]
    }
   ],
   "source": [
    "indices = data_NYC[\"x_offsets\"]\n",
    "print(indices)"
   ]
  },
  {
   "cell_type": "code",
   "execution_count": 4,
   "metadata": {},
   "outputs": [
    {
     "ename": "NameError",
     "evalue": "name 'reshaped_data_careem' is not defined",
     "output_type": "error",
     "traceback": [
      "\u001b[1;31m---------------------------------------------------------------------------\u001b[0m",
      "\u001b[1;31mNameError\u001b[0m                                 Traceback (most recent call last)",
      "Cell \u001b[1;32mIn[4], line 1\u001b[0m\n\u001b[1;32m----> 1\u001b[0m \u001b[43mreshaped_data_careem\u001b[49m\u001b[38;5;241m.\u001b[39mshape\n",
      "\u001b[1;31mNameError\u001b[0m: name 'reshaped_data_careem' is not defined"
     ]
    }
   ],
   "source": [
    "reshaped_data_careem.shape"
   ]
  },
  {
   "cell_type": "markdown",
   "metadata": {},
   "source": [
    "The train/val/test data is composed of 4 numpy.ndarray objects:\n",
    "\n",
    "X: input data. It is a 4D tensor of shape (#samples, #lookback_window, #nodes, #flow_types), where # denotes the number sign.\n",
    "<br>Y: data to be predicted. It is a 4D tensor of shape (#samples, #predict_horizon, #nodes, #flow_types). Note that X and Y are paired in the sample dimension. For instance, (X_i, Y_i) is the i-the data sample with i indexing the sample dimension.\n",
    "<br>X_offset: a list indicating offsets of X's lookback window relative to the current time with offset 0.\n",
    "<br>Y_offset: a list indicating offsets of Y's prediction horizon relative to the current time with offset 0."
   ]
  },
  {
   "cell_type": "code",
   "execution_count": 5,
   "metadata": {},
   "outputs": [
    {
     "name": "stdout",
     "output_type": "stream",
     "text": [
      "[[0. 1. 0. ... 0. 0. 0.]\n",
      " [1. 0. 1. ... 0. 0. 0.]\n",
      " [0. 1. 0. ... 0. 0. 0.]\n",
      " ...\n",
      " [0. 0. 0. ... 0. 1. 0.]\n",
      " [0. 0. 0. ... 1. 0. 1.]\n",
      " [0. 0. 0. ... 0. 1. 0.]]\n"
     ]
    }
   ],
   "source": [
    "import networkx as nx\n",
    "import numpy as np\n",
    "\n",
    "# Create a 15x19 grid graph\n",
    "G = nx.grid_2d_graph(15, 19)\n",
    "\n",
    "# Create an empty adjacency matrix\n",
    "adj_matrix = np.zeros((15*19, 15*19))\n",
    "\n",
    "# Iterate over all nodes in the grid\n",
    "for node in G.nodes:\n",
    "    # Get the row and column indices of the current node\n",
    "    row, col = node\n",
    "    \n",
    "    # Iterate over the 8 neighbors of the current node\n",
    "    for i in range(-1, 2):\n",
    "        for j in range(-1, 2):\n",
    "            # Skip the current node itself\n",
    "            if i == 0 and j == 0:\n",
    "                continue\n",
    "            \n",
    "            # Calculate the row and column indices of the neighbor\n",
    "            neighbor_row = row + i\n",
    "            neighbor_col = col + j\n",
    "            \n",
    "            # Check if the neighbor is within the grid boundaries\n",
    "            if 0 <= neighbor_row < 15 and 0 <= neighbor_col < 19:\n",
    "                # Calculate the indices of the current node and the neighbor in the adjacency matrix\n",
    "                node_index = row * 19 + col\n",
    "                neighbor_index = neighbor_row * 19 + neighbor_col\n",
    "                \n",
    "                # Set the corresponding entry in the adjacency matrix to 1\n",
    "                adj_matrix[node_index, neighbor_index] = 1\n",
    "\n",
    "# Print the adjacency matrix\n",
    "print(adj_matrix)\n"
   ]
  },
  {
   "cell_type": "code",
   "execution_count": 50,
   "metadata": {},
   "outputs": [],
   "source": [
    "np.savez('D:\\\\omer\\\\ST-SSL\\\\data\\\\Careem\\\\adj_matrix.npz', adj_mx=adj_matrix)\n"
   ]
  },
  {
   "cell_type": "code",
   "execution_count": 6,
   "metadata": {},
   "outputs": [
    {
     "name": "stdout",
     "output_type": "stream",
     "text": [
      "reshaped_data_careem.shape:  (2160, 285, 1)\n"
     ]
    }
   ],
   "source": [
    "reshaped_data_careem = data_careem.reshape(data_careem.shape[0], -1, 1)\n",
    "print(\"reshaped_data_careem.shape: \", reshaped_data_careem.shape)  ## #samples, #nodes, demand\n"
   ]
  },
  {
   "cell_type": "code",
   "execution_count": 7,
   "metadata": {},
   "outputs": [
    {
     "name": "stdout",
     "output_type": "stream",
     "text": [
      "reshaped_data_careem_2.shape:  (2160, 1, 285, 1)\n"
     ]
    }
   ],
   "source": [
    "reshaped_data_careem_2 = np.expand_dims(reshaped_data_careem, axis=1)\n",
    "print(\"reshaped_data_careem_2.shape: \", reshaped_data_careem_2.shape)  ## #samples, #lookback_window #nodes, demand"
   ]
  },
  {
   "cell_type": "code",
   "execution_count": 34,
   "metadata": {},
   "outputs": [
    {
     "name": "stdout",
     "output_type": "stream",
     "text": [
      "(285, 1)\n"
     ]
    },
    {
     "data": {
      "text/plain": [
       "array([[  0.],\n",
       "       [  0.],\n",
       "       [  4.],\n",
       "       [  0.],\n",
       "       [  0.],\n",
       "       [  0.],\n",
       "       [  0.],\n",
       "       [  0.],\n",
       "       [  0.],\n",
       "       [  0.],\n",
       "       [  1.],\n",
       "       [  0.],\n",
       "       [  1.],\n",
       "       [  0.],\n",
       "       [  0.],\n",
       "       [  0.],\n",
       "       [  0.],\n",
       "       [  0.],\n",
       "       [  0.],\n",
       "       [  0.],\n",
       "       [ 60.],\n",
       "       [  0.],\n",
       "       [  0.],\n",
       "       [  0.],\n",
       "       [  0.],\n",
       "       [  0.],\n",
       "       [  1.],\n",
       "       [  2.],\n",
       "       [  1.],\n",
       "       [  0.],\n",
       "       [  0.],\n",
       "       [  0.],\n",
       "       [  0.],\n",
       "       [  0.],\n",
       "       [  1.],\n",
       "       [  0.],\n",
       "       [  0.],\n",
       "       [ 12.],\n",
       "       [  0.],\n",
       "       [  2.],\n",
       "       [  0.],\n",
       "       [  2.],\n",
       "       [  0.],\n",
       "       [  0.],\n",
       "       [  0.],\n",
       "       [  0.],\n",
       "       [  2.],\n",
       "       [  1.],\n",
       "       [  0.],\n",
       "       [  0.],\n",
       "       [  0.],\n",
       "       [105.],\n",
       "       [  2.],\n",
       "       [  2.],\n",
       "       [  0.],\n",
       "       [  0.],\n",
       "       [  0.],\n",
       "       [  0.],\n",
       "       [  4.],\n",
       "       [  1.],\n",
       "       [  0.],\n",
       "       [  0.],\n",
       "       [  0.],\n",
       "       [  0.],\n",
       "       [  0.],\n",
       "       [  0.],\n",
       "       [  0.],\n",
       "       [  0.],\n",
       "       [  2.],\n",
       "       [  0.],\n",
       "       [  0.],\n",
       "       [  0.],\n",
       "       [  0.],\n",
       "       [  0.],\n",
       "       [  0.],\n",
       "       [  0.],\n",
       "       [  0.],\n",
       "       [  2.],\n",
       "       [  0.],\n",
       "       [  2.],\n",
       "       [  0.],\n",
       "       [  0.],\n",
       "       [  0.],\n",
       "       [  0.],\n",
       "       [  0.],\n",
       "       [  0.],\n",
       "       [  0.],\n",
       "       [  0.],\n",
       "       [  0.],\n",
       "       [  0.],\n",
       "       [  0.],\n",
       "       [  0.],\n",
       "       [  2.],\n",
       "       [  0.],\n",
       "       [  0.],\n",
       "       [  0.],\n",
       "       [  0.],\n",
       "       [  0.],\n",
       "       [  0.],\n",
       "       [  0.],\n",
       "       [  0.],\n",
       "       [  0.],\n",
       "       [  2.],\n",
       "       [  0.],\n",
       "       [ 11.],\n",
       "       [  0.],\n",
       "       [  1.],\n",
       "       [  0.],\n",
       "       [  0.],\n",
       "       [  0.],\n",
       "       [  2.],\n",
       "       [ 28.],\n",
       "       [  3.],\n",
       "       [  0.],\n",
       "       [  0.],\n",
       "       [  0.],\n",
       "       [  0.],\n",
       "       [  0.],\n",
       "       [  2.],\n",
       "       [  9.],\n",
       "       [  0.],\n",
       "       [ 26.],\n",
       "       [  0.],\n",
       "       [  0.],\n",
       "       [  2.],\n",
       "       [  0.],\n",
       "       [  0.],\n",
       "       [  0.],\n",
       "       [  0.],\n",
       "       [  0.],\n",
       "       [  0.],\n",
       "       [  0.],\n",
       "       [  8.],\n",
       "       [  0.],\n",
       "       [ 15.],\n",
       "       [  2.],\n",
       "       [ 18.],\n",
       "       [  0.],\n",
       "       [  0.],\n",
       "       [ 28.],\n",
       "       [  2.],\n",
       "       [  0.],\n",
       "       [  0.],\n",
       "       [ 22.],\n",
       "       [  0.],\n",
       "       [  4.],\n",
       "       [  8.],\n",
       "       [  5.],\n",
       "       [  0.],\n",
       "       [  0.],\n",
       "       [  3.],\n",
       "       [  0.],\n",
       "       [  5.],\n",
       "       [  2.],\n",
       "       [  0.],\n",
       "       [  0.],\n",
       "       [  0.],\n",
       "       [  0.],\n",
       "       [  0.],\n",
       "       [  0.],\n",
       "       [  1.],\n",
       "       [  0.],\n",
       "       [  0.],\n",
       "       [  1.],\n",
       "       [  0.],\n",
       "       [  0.],\n",
       "       [  0.],\n",
       "       [  0.],\n",
       "       [  0.],\n",
       "       [  0.],\n",
       "       [  0.],\n",
       "       [  0.],\n",
       "       [  0.],\n",
       "       [  0.],\n",
       "       [  4.],\n",
       "       [  8.],\n",
       "       [  0.],\n",
       "       [  0.],\n",
       "       [  0.],\n",
       "       [  0.],\n",
       "       [  0.],\n",
       "       [  0.],\n",
       "       [  0.],\n",
       "       [ 12.],\n",
       "       [  0.],\n",
       "       [  3.],\n",
       "       [  0.],\n",
       "       [ 18.],\n",
       "       [  0.],\n",
       "       [  1.],\n",
       "       [  0.],\n",
       "       [  0.],\n",
       "       [  0.],\n",
       "       [  1.],\n",
       "       [  0.],\n",
       "       [  0.],\n",
       "       [  0.],\n",
       "       [  0.],\n",
       "       [  0.],\n",
       "       [  0.],\n",
       "       [  0.],\n",
       "       [  0.],\n",
       "       [  0.],\n",
       "       [  0.],\n",
       "       [  0.],\n",
       "       [  1.],\n",
       "       [  2.],\n",
       "       [  2.],\n",
       "       [  0.],\n",
       "       [  2.],\n",
       "       [  0.],\n",
       "       [  0.],\n",
       "       [  0.],\n",
       "       [  0.],\n",
       "       [  0.],\n",
       "       [  6.],\n",
       "       [  0.],\n",
       "       [  2.],\n",
       "       [  0.],\n",
       "       [  0.],\n",
       "       [  0.],\n",
       "       [  0.],\n",
       "       [  0.],\n",
       "       [  9.],\n",
       "       [  0.],\n",
       "       [  2.],\n",
       "       [  0.],\n",
       "       [  0.],\n",
       "       [  2.],\n",
       "       [  0.],\n",
       "       [  0.],\n",
       "       [  0.],\n",
       "       [  0.],\n",
       "       [  0.],\n",
       "       [  0.],\n",
       "       [  0.],\n",
       "       [  5.],\n",
       "       [  0.],\n",
       "       [  1.],\n",
       "       [  4.],\n",
       "       [  0.],\n",
       "       [  0.],\n",
       "       [  0.],\n",
       "       [  1.],\n",
       "       [  9.],\n",
       "       [  0.],\n",
       "       [  0.],\n",
       "       [  3.],\n",
       "       [  0.],\n",
       "       [  0.],\n",
       "       [  0.],\n",
       "       [  0.],\n",
       "       [  0.],\n",
       "       [  0.],\n",
       "       [  0.],\n",
       "       [  0.],\n",
       "       [  6.],\n",
       "       [  4.],\n",
       "       [  0.],\n",
       "       [  6.],\n",
       "       [  0.],\n",
       "       [  0.],\n",
       "       [  0.],\n",
       "       [  1.],\n",
       "       [  0.],\n",
       "       [  0.],\n",
       "       [  0.],\n",
       "       [  1.],\n",
       "       [  0.],\n",
       "       [  0.],\n",
       "       [  0.],\n",
       "       [  0.],\n",
       "       [  0.],\n",
       "       [  0.],\n",
       "       [  0.],\n",
       "       [  0.],\n",
       "       [ 13.],\n",
       "       [  1.],\n",
       "       [  0.],\n",
       "       [  0.],\n",
       "       [ 10.],\n",
       "       [  1.],\n",
       "       [  0.],\n",
       "       [  0.],\n",
       "       [  2.]])"
      ]
     },
     "execution_count": 34,
     "metadata": {},
     "output_type": "execute_result"
    }
   ],
   "source": [
    "print(reshaped_data_careem_2[-5, 0, :, :].shape)\n",
    "reshaped_data_careem_2[-2, 0, :, :]"
   ]
  },
  {
   "cell_type": "code",
   "execution_count": 68,
   "metadata": {},
   "outputs": [
    {
     "name": "stdout",
     "output_type": "stream",
     "text": [
      "torch.Size([1, 1, 4, 2]) torch.Size([1, 1, 2]) torch.Size([1, 1, 1, 2])\n"
     ]
    },
    {
     "data": {
      "text/plain": [
       "tensor([[[[1., 1.],\n",
       "          [2., 2.],\n",
       "          [5., 3.],\n",
       "          [4., 4.]]]])"
      ]
     },
     "execution_count": 68,
     "metadata": {},
     "output_type": "execute_result"
    }
   ],
   "source": [
    "import torch\n",
    "tensor1 = torch.tensor([[[[1, 1], [2, 2], [3, 3], [4, 4]]]], dtype=torch.float32) # Shape: [1, 1, 4, 1]\n",
    "tensor2 = torch.tensor([[[[5, 3]]]], dtype=torch.float32)                # Shape: [1, 1, 1, 1]\n",
    "\n",
    "print(tensor1.shape, tensor1[:, :, 2, :].shape, tensor2.shape)\n",
    "# Replacing the 3rd element (index 2) of the 3rd dimension of tensor1 with tensor2\n",
    "tensor1[:, :, 2, :] = tensor2\n",
    "\n",
    "tensor1"
   ]
  },
  {
   "cell_type": "code",
   "execution_count": 10,
   "metadata": {},
   "outputs": [],
   "source": [
    "indices = [[i] for i in range(-3, 1)]\n"
   ]
  },
  {
   "cell_type": "code",
   "execution_count": 13,
   "metadata": {},
   "outputs": [
    {
     "name": "stdout",
     "output_type": "stream",
     "text": [
      "[[-3], [-2], [-1], [0]]\n"
     ]
    }
   ],
   "source": [
    "## making the lookback window\n",
    "\n",
    "import numpy as np\n",
    "\n",
    "# Assuming original_data is your original tensor with shape (2160, 1, 285, 1)\n",
    "print(indices)\n",
    "# Initialize the target tensor with zeros\n",
    "careem_X = np.zeros((2160-4, 4, 285, 1))\n",
    "careem_Y = np.zeros((2160-4, 1, 285, 1))\n",
    "# Iterate over each sample\n",
    "for i in range(3, 2160-1):\n",
    "    # For each sample, fetch the indices from index_list\n",
    "    \n",
    "    \n",
    "    # Iterate over each index to fill the target tensor\n",
    "    for j, index in enumerate(indices):\n",
    "        index=index[0]\n",
    "        # print(index)\n",
    "        # Copy the data from the original tensor to the target tensor\n",
    "        careem_X[i-3, j, :, :] = reshaped_data_careem_2[i+index, 0, :, :]\n",
    "    careem_Y[i-3, 0, :, :] = reshaped_data_careem_2[i+1, 0, :, :]\n"
   ]
  },
  {
   "cell_type": "code",
   "execution_count": 81,
   "metadata": {},
   "outputs": [],
   "source": [
    "# arr1 = np.array([[[1, 2], [3, 4]]])\n",
    "# arr2 = np.array([[5, 6]])\n",
    "# print(arr1)\n",
    "# print(arr1.shape)\n",
    "# arr1[:, :, -1] = arr2\n",
    "# print(arr1)\n",
    "# print(arr1.shape, arr2.shape)"
   ]
  },
  {
   "cell_type": "code",
   "execution_count": 14,
   "metadata": {},
   "outputs": [
    {
     "name": "stdout",
     "output_type": "stream",
     "text": [
      "careem_X.shape:  (2156, 4, 285, 1)\n",
      "careem_Y.shape:  (2156, 1, 285, 1)\n"
     ]
    }
   ],
   "source": [
    "print(\"careem_X.shape: \", careem_X.shape)\n",
    "print(\"careem_Y.shape: \", careem_Y.shape)"
   ]
  },
  {
   "cell_type": "code",
   "execution_count": 15,
   "metadata": {},
   "outputs": [
    {
     "name": "stdout",
     "output_type": "stream",
     "text": [
      "X_train.shape: (1509, 4, 285, 1)\n",
      "Y_train.shape: (1509, 1, 285, 1)\n",
      "X_test.shape: (433, 4, 285, 1)\n",
      "Y_test.shape: (433, 1, 285, 1)\n",
      "X_val.shape: (214, 4, 285, 1)\n",
      "Y_val.shape: (214, 1, 285, 1)\n"
     ]
    }
   ],
   "source": [
    "from sklearn.model_selection import train_test_split\n",
    "\n",
    "# Split the data into train and test sets (70:30 split)\n",
    "X_train, X_test, Y_train, Y_test = train_test_split(careem_X, careem_Y, test_size=0.3, random_state=42)\n",
    "\n",
    "# Split the test set into test and validation sets (50:50 split)\n",
    "X_test, X_val, Y_test, Y_val = train_test_split(X_test, Y_test, test_size=0.33, random_state=42)\n",
    "\n",
    "# Print the shapes of the train, test, and validation sets\n",
    "print(\"X_train.shape:\", X_train.shape)\n",
    "print(\"Y_train.shape:\", Y_train.shape)\n",
    "print(\"X_test.shape:\", X_test.shape)\n",
    "print(\"Y_test.shape:\", Y_test.shape)\n",
    "print(\"X_val.shape:\", X_val.shape)\n",
    "print(\"Y_val.shape:\", Y_val.shape)\n"
   ]
  },
  {
   "cell_type": "code",
   "execution_count": 16,
   "metadata": {},
   "outputs": [],
   "source": [
    "np.savez('D:\\\\omer\\\\ST-SSL\\\\data\\\\Careem\\\\train.npz', x=X_train, y=Y_train)\n",
    "np.savez('D:\\\\omer\\\\ST-SSL\\\\data\\\\Careem\\\\test.npz', x=X_test, y=Y_test)\n",
    "np.savez('D:\\\\omer\\\\ST-SSL\\\\data\\\\Careem\\\\val.npz', x=X_val, y=Y_val)\n"
   ]
  },
  {
   "cell_type": "code",
   "execution_count": 17,
   "metadata": {},
   "outputs": [],
   "source": [
    "prediction_buffer = None"
   ]
  },
  {
   "cell_type": "code",
   "execution_count": 26,
   "metadata": {},
   "outputs": [],
   "source": [
    "\n",
    "pred_output = 4\n",
    "# Update the prediction buffer\n",
    "if prediction_buffer is None:\n",
    "    prediction_buffer = [pred_output]\n",
    "else:\n",
    "    prediction_buffer.insert(0, pred_output)\n",
    "    prediction_buffer = prediction_buffer[:4]  # Keep buffer size same as the number of time steps\n",
    "\n"
   ]
  },
  {
   "cell_type": "code",
   "execution_count": 27,
   "metadata": {},
   "outputs": [
    {
     "data": {
      "text/plain": [
       "[4, 3, 2, 1]"
      ]
     },
     "execution_count": 27,
     "metadata": {},
     "output_type": "execute_result"
    }
   ],
   "source": [
    "prediction_buffer"
   ]
  },
  {
   "cell_type": "code",
   "execution_count": null,
   "metadata": {},
   "outputs": [],
   "source": []
  }
 ],
 "metadata": {
  "kernelspec": {
   "display_name": "i-jepaVENV",
   "language": "python",
   "name": "python3"
  },
  "language_info": {
   "codemirror_mode": {
    "name": "ipython",
    "version": 3
   },
   "file_extension": ".py",
   "mimetype": "text/x-python",
   "name": "python",
   "nbconvert_exporter": "python",
   "pygments_lexer": "ipython3",
   "version": "3.11.5"
  }
 },
 "nbformat": 4,
 "nbformat_minor": 2
}
