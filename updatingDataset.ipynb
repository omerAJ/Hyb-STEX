{
 "cells": [
  {
   "cell_type": "code",
   "execution_count": 6,
   "metadata": {},
   "outputs": [
    {
     "name": "stdout",
     "output_type": "stream",
     "text": [
      "x (3023, 19, 128, 2)\n",
      "y (3023, 1, 128, 2)\n",
      "x_offsets (19, 1)\n",
      "y_offsets (1, 1)\n",
      "[[-73]\n",
      " [-72]\n",
      " [-71]\n",
      " [-70]\n",
      " [-69]\n",
      " [-49]\n",
      " [-48]\n",
      " [-47]\n",
      " [-46]\n",
      " [-45]\n",
      " [-25]\n",
      " [-24]\n",
      " [-23]\n",
      " [-22]\n",
      " [-21]\n",
      " [ -3]\n",
      " [ -2]\n",
      " [ -1]\n",
      " [  0]]\n",
      "[[1]]\n"
     ]
    }
   ],
   "source": [
    "import numpy as np\n",
    "\n",
    "data_NYC = np.load('D:\\\\omer\\\\ST-SSL\\\\data\\\\NYCBike1\\\\train.npz')\n",
    "for file in data_NYC.files:\n",
    "    print(file, data_NYC[file].shape)\n",
    "\n",
    "print(data_NYC['x_offsets'])\n",
    "print(data_NYC['y_offsets'])"
   ]
  },
  {
   "cell_type": "code",
   "execution_count": 295,
   "metadata": {},
   "outputs": [],
   "source": [
    "import torch\n",
    "\n",
    "def smart_permute(n, X, metadata, delta=2):\n",
    "    \"\"\"\n",
    "    Generate a permutation of indices for a tensor, ensuring that all samples\n",
    "    not end up within ± `delta` of its original position (from metadata).\n",
    "\n",
    "    Parameters:\n",
    "    - n: Total number of samples in the batch.\n",
    "    - X: The tensor to be permuted.\n",
    "    - metadata: Tensor containing the original indices of the samples.\n",
    "    - delta: The range (as defined by the metadata array) within which the new index for the samples in X should not fall.\n",
    "\n",
    "    Returns:\n",
    "    - Tensor X permuted satisfying the constraints.\n",
    "    \"\"\"\n",
    "    perm = np.zeros(n, dtype=int)\n",
    "    for i in range(n): # in this loop we will set perm[i]\n",
    "        print(f\"valid indices for {i} are: \")\n",
    "        for j in range(i, n): # in this loop we will check all other indices to find valid index for perm[i]\n",
    "            \n",
    "            if abs(metadata[i] - metadata[j]) > : \n",
    "                print(f\"j: {j}\")\n",
    "                valid_index=j\n",
    "        perm[i] = valid_index\n",
    "    X = X[perm]\n",
    "        \n",
    "        \n",
    "\n",
    "    return X\n",
    "\n"
   ]
  },
  {
   "cell_type": "code",
   "execution_count": 298,
   "metadata": {},
   "outputs": [
    {
     "data": {
      "text/plain": [
       "3"
      ]
     },
     "execution_count": 298,
     "metadata": {},
     "output_type": "execute_result"
    }
   ],
   "source": []
  },
  {
   "cell_type": "code",
   "execution_count": 296,
   "metadata": {},
   "outputs": [
    {
     "name": "stdout",
     "output_type": "stream",
     "text": [
      "valid indices for 0 are: \n",
      "j: 1\n",
      "j: 3\n",
      "j: 5\n",
      "j: 7\n",
      "valid indices for 1 are: \n",
      "j: 2\n",
      "j: 4\n",
      "j: 6\n",
      "valid indices for 2 are: \n",
      "j: 3\n",
      "j: 5\n",
      "j: 7\n",
      "valid indices for 3 are: \n",
      "j: 4\n",
      "j: 6\n",
      "valid indices for 4 are: \n",
      "j: 5\n",
      "j: 7\n",
      "valid indices for 5 are: \n",
      "j: 6\n",
      "valid indices for 6 are: \n",
      "j: 7\n",
      "valid indices for 7 are: \n"
     ]
    }
   ],
   "source": [
    "idx=smart_permute(8, np.array([1, 2, 3, 4, 5, 6, 7, 8]), np.array([0, 1, 2, 3, 4, 5, 6, 7]), 2)"
   ]
  },
  {
   "cell_type": "code",
   "execution_count": null,
   "metadata": {},
   "outputs": [],
   "source": []
  }
 ],
 "metadata": {
  "kernelspec": {
   "display_name": "i-jepaVENV",
   "language": "python",
   "name": "python3"
  },
  "language_info": {
   "codemirror_mode": {
    "name": "ipython",
    "version": 3
   },
   "file_extension": ".py",
   "mimetype": "text/x-python",
   "name": "python",
   "nbconvert_exporter": "python",
   "pygments_lexer": "ipython3",
   "version": "3.11.5"
  }
 },
 "nbformat": 4,
 "nbformat_minor": 2
}
