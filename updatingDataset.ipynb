{
 "cells": [
  {
   "cell_type": "code",
   "execution_count": 8,
   "metadata": {},
   "outputs": [
    {
     "name": "stdout",
     "output_type": "stream",
     "text": [
      "x (1813, 19, 128, 2)\n",
      "y (1813, 1, 128, 2)\n",
      "x_offsets (19, 1)\n",
      "y_offsets (1, 1)\n",
      "[[-73]\n",
      " [-72]\n",
      " [-71]\n",
      " [-70]\n",
      " [-69]\n",
      " [-49]\n",
      " [-48]\n",
      " [-47]\n",
      " [-46]\n",
      " [-45]\n",
      " [-25]\n",
      " [-24]\n",
      " [-23]\n",
      " [-22]\n",
      " [-21]\n",
      " [ -3]\n",
      " [ -2]\n",
      " [ -1]\n",
      " [  0]]\n",
      "[[1]]\n"
     ]
    }
   ],
   "source": [
    "import numpy as np\n",
    "\n",
    "data_NYC = np.load('D:\\\\omer\\\\ST-SSL\\\\data\\\\NYCBike1\\\\train_new.npz')\n",
    "for file in data_NYC.files:\n",
    "    print(file, data_NYC[file].shape)\n",
    "\n",
    "print(data_NYC['x_offsets'])\n",
    "print(data_NYC['y_offsets'])"
   ]
  },
  {
   "cell_type": "code",
   "execution_count": 86,
   "metadata": {},
   "outputs": [],
   "source": [
    "# import torch\n",
    "# import numpy as np\n",
    "# def smart_permute(n, X, metadata, delta=2):\n",
    "#     \"\"\"\n",
    "#     Generate a permutation of indices for a tensor, ensuring that all samples\n",
    "#     not end up within ± `delta` of its original position (from metadata).\n",
    "\n",
    "#     Parameters:\n",
    "#     - n: Total number of samples in the batch.\n",
    "#     - X: The tensor to be permuted.\n",
    "#     - metadata: Tensor containing the original indices of the samples.\n",
    "#     - delta: The range (as defined by the metadata array) within which the new index for the samples in X should not fall.\n",
    "\n",
    "#     Returns:\n",
    "#     - Tensor X permuted satisfying the constraints.\n",
    "#     \"\"\"\n",
    "#     valid_index=0\n",
    "#     perm = np.zeros(n, dtype=int)\n",
    "#     for i in range(n): # in this loop we will set perm[i]\n",
    "#         print(f\"valid indices for {i} are: \")\n",
    "#         for j in range(i, n): # in this loop we will check all other indices to find valid index for perm[i]     \n",
    "#             diff = abs(metadata[i] - metadata[j])\n",
    "#             if diff % 24 not in [0, 1, 2, 22, 23]: \n",
    "#                 print(f\"j: {j}\")\n",
    "#                 # print(abs(metadata[i] - metadata[j]), abs(metadata[i] - metadata[j])%24)\n",
    "#                 valid_index=j\n",
    "#         perm[i] = valid_index\n",
    "#     X = X[perm]\n",
    "        \n",
    "        \n",
    "\n",
    "#     return X\n",
    "\n"
   ]
  },
  {
   "cell_type": "code",
   "execution_count": 368,
   "metadata": {},
   "outputs": [],
   "source": [
    "import torch\n",
    "import numpy as np\n",
    "def smart_permute(n, X, metadata, delta=2):\n",
    "    \"\"\"\n",
    "    Generate a permutation of indices for a tensor, ensuring that all samples\n",
    "    not end up within ± `delta` of its original position (from metadata).\n",
    "    Parameters:\n",
    "    - n: Total number of samples in the batch.\n",
    "    - X: The tensor to be permuted.\n",
    "    - metadata: Tensor containing the original indices of the samples.\n",
    "    - delta: The range (as defined by the metadata array) within which the new index for the samples in X should not fall.\n",
    "\n",
    "    Returns:\n",
    "    - Tensor X permuted satisfying the constraints.\n",
    "    \"\"\"\n",
    "    # valid_indeces=np.array([])\n",
    "    perm = np.zeros(n, dtype=int)\n",
    "    indices = np.arange(0, n)\n",
    "    for i in range(0, n): # in this loop we will set perm[i]\n",
    "             \n",
    "        diff = abs(metadata[i] - metadata)\n",
    "        mask = ~np.isin(diff % 24, [0, 1, 2, 22, 23])\n",
    "        # Apply the mask to 'indices' to filter out the invalid indices\n",
    "        valid_indices = indices[mask]\n",
    "        # valid_indeces = indices[diff % 24 not in [0, 1, 2, 22, 23]]\n",
    "        \n",
    "        if len(valid_indices) > 0: \n",
    "            t =  np.random.choice(valid_indices)\n",
    "        else:\n",
    "            t = np.random.choice(indices)\n",
    "            print(\"could not find heterogeneous sample\")\n",
    "        perm[i] = t\n",
    "    return perm\n",
    "\n"
   ]
  },
  {
   "cell_type": "code",
   "execution_count": 96,
   "metadata": {},
   "outputs": [
    {
     "name": "stdout",
     "output_type": "stream",
     "text": [
      "2\n"
     ]
    }
   ],
   "source": [
    "a=np.array([0, 1, 2])\n",
    "s = np.random.choice(a)\n",
    "print(s)"
   ]
  },
  {
   "cell_type": "code",
   "execution_count": 97,
   "metadata": {},
   "outputs": [
    {
     "name": "stdout",
     "output_type": "stream",
     "text": [
      "3\n",
      "4\n",
      "5\n",
      "6\n",
      "7\n",
      "8\n",
      "9\n",
      "10\n",
      "11\n",
      "12\n",
      "13\n",
      "14\n",
      "15\n",
      "16\n",
      "17\n",
      "18\n",
      "19\n",
      "20\n",
      "21\n",
      "27\n",
      "28\n",
      "29\n"
     ]
    }
   ],
   "source": [
    "for i in range(0, 30):\n",
    "    if i % 24 > 2 and i % 24 < 22:\n",
    "        print(i)"
   ]
  },
  {
   "cell_type": "code",
   "execution_count": 98,
   "metadata": {},
   "outputs": [
    {
     "name": "stdout",
     "output_type": "stream",
     "text": [
      "valid indices for 0 are: \n",
      "j: 1\n",
      "j: 2\n",
      "j: 4\n",
      "j: 6\n",
      "j: 7\n",
      "valid indices for 1 are: \n",
      "j: 2\n",
      "j: 3\n",
      "j: 6\n",
      "j: 7\n",
      "valid indices for 2 are: \n",
      "j: 3\n",
      "j: 4\n",
      "j: 5\n",
      "j: 6\n",
      "j: 7\n",
      "valid indices for 3 are: \n",
      "j: 4\n",
      "j: 6\n",
      "j: 7\n",
      "valid indices for 4 are: \n",
      "j: 6\n",
      "j: 7\n",
      "valid indices for 5 are: \n",
      "j: 6\n",
      "j: 7\n",
      "valid indices for 6 are: \n",
      "valid indices for 7 are: \n",
      "[8 8 8 8 8 8 8 8]\n"
     ]
    }
   ],
   "source": [
    "idx=smart_permute(8, np.array([1, 2, 3, 4, 5, 6, 7, 8]), np.array([0, 3, 21, 24, 50, 49, 29, 7]), 2)\n",
    "print(idx)"
   ]
  },
  {
   "cell_type": "code",
   "execution_count": 581,
   "metadata": {},
   "outputs": [
    {
     "name": "stdout",
     "output_type": "stream",
     "text": [
      "[7 1 1 1 1 1 1 1]\n"
     ]
    }
   ],
   "source": [
    "idx=smart_permute(8, np.array([1, 2, 3, 4, 5, 6, 7, 8]), np.array([5, 24, 24, 24, 24, 24, 24, 24]), 2)\n",
    "print(idx)"
   ]
  },
  {
   "cell_type": "code",
   "execution_count": 69,
   "metadata": {},
   "outputs": [
    {
     "name": "stdout",
     "output_type": "stream",
     "text": [
      "The Zen of Python, by Tim Peters\n",
      "\n",
      "Beautiful is better than ugly.\n",
      "Explicit is better than implicit.\n",
      "Simple is better than complex.\n",
      "Complex is better than complicated.\n",
      "Flat is better than nested.\n",
      "Sparse is better than dense.\n",
      "Readability counts.\n",
      "Special cases aren't special enough to break the rules.\n",
      "Although practicality beats purity.\n",
      "Errors should never pass silently.\n",
      "Unless explicitly silenced.\n",
      "In the face of ambiguity, refuse the temptation to guess.\n",
      "There should be one-- and preferably only one --obvious way to do it.\n",
      "Although that way may not be obvious at first unless you're Dutch.\n",
      "Now is better than never.\n",
      "Although never is often better than *right* now.\n",
      "If the implementation is hard to explain, it's a bad idea.\n",
      "If the implementation is easy to explain, it may be a good idea.\n",
      "Namespaces are one honking great idea -- let's do more of those!\n"
     ]
    }
   ],
   "source": [
    "import this"
   ]
  },
  {
   "cell_type": "code",
   "execution_count": null,
   "metadata": {},
   "outputs": [],
   "source": []
  }
 ],
 "metadata": {
  "kernelspec": {
   "display_name": "i-jepaVENV",
   "language": "python",
   "name": "python3"
  },
  "language_info": {
   "codemirror_mode": {
    "name": "ipython",
    "version": 3
   },
   "file_extension": ".py",
   "mimetype": "text/x-python",
   "name": "python",
   "nbconvert_exporter": "python",
   "pygments_lexer": "ipython3",
   "version": "3.11.5"
  }
 },
 "nbformat": 4,
 "nbformat_minor": 2
}
