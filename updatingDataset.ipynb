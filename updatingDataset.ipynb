{
 "cells": [
  {
   "cell_type": "code",
   "execution_count": 21,
   "metadata": {},
   "outputs": [
    {
     "name": "stdout",
     "output_type": "stream",
     "text": [
      "x_offsets:  [[-147]\n",
      " [-146]\n",
      " [-145]\n",
      " [-144]\n",
      " [-143]\n",
      " [-142]\n",
      " [-141]\n",
      " [-140]\n",
      " [-139]\n",
      " [ -99]\n",
      " [ -98]\n",
      " [ -97]\n",
      " [ -96]\n",
      " [ -95]\n",
      " [ -94]\n",
      " [ -93]\n",
      " [ -92]\n",
      " [ -91]\n",
      " [ -51]\n",
      " [ -50]\n",
      " [ -49]\n",
      " [ -48]\n",
      " [ -47]\n",
      " [ -46]\n",
      " [ -45]\n",
      " [ -44]\n",
      " [ -43]\n",
      " [  -7]\n",
      " [  -6]\n",
      " [  -5]\n",
      " [  -4]\n",
      " [  -3]\n",
      " [  -2]\n",
      " [  -1]\n",
      " [   0]]\n",
      "train:  (1912, 35, 200, 2)\n",
      "test:  (546, 35, 200, 2)\n",
      "val:  (274, 35, 200, 2)\n"
     ]
    }
   ],
   "source": [
    "import numpy as np\n",
    "\n",
    "data_NYC = np.load('D:\\\\omer\\\\ST-SSL\\\\data\\\\NYCBike2\\\\train.npz')\n",
    "# for file in data_NYC.files:\n",
    "#     print(f\"{file}: shape: {data_NYC[file].shape}\")\n",
    "\n",
    "print(\"x_offsets: \", data_NYC['x_offsets'][:])\n",
    "# print(\"y_offsets: \", data_NYC['y_offsets'][:])\n",
    "# print(data_NYC['y_offsets'])\n",
    "for split in ['train', 'test', 'val']:\n",
    "    data= np.load('D:\\\\omer\\\\ST-SSL\\\\data\\\\NYCBike2\\\\{}.npz'.format(split))\n",
    "    print(f\"{split}: \", data['x'].shape)"
   ]
  },
  {
   "cell_type": "code",
   "execution_count": 31,
   "metadata": {},
   "outputs": [
    {
     "name": "stdout",
     "output_type": "stream",
     "text": [
      "[[-7]\n",
      " [-6]\n",
      " [-5]\n",
      " [-4]\n",
      " [-3]\n",
      " [-2]\n",
      " [-1]\n",
      " [ 0]]\n"
     ]
    }
   ],
   "source": [
    "input_length=\"A\"\n",
    "input_sequence_dict = {\"A\":[-8, 35], \"B\":[-17, -8], \"C\":[-26, -17], \"D\":[-35, -26]}\n",
    "input_sequence = input_sequence_dict[input_length]\n",
    "# skip = cat_data['x'].shape[1] - input_length\n",
    "print(data_NYC['x_offsets'][input_sequence[0]:input_sequence[1]])\n",
    "\n",
    "# print(\"x_offsets: \", data_NYC['x_offsets'][-19:-14])"
   ]
  },
  {
   "cell_type": "code",
   "execution_count": 17,
   "metadata": {},
   "outputs": [
    {
     "name": "stdout",
     "output_type": "stream",
     "text": [
      "Processed train: Original shape (1813, 19, 128, 2), New shape (1813, 14, 128, 2)\n",
      "Processed test: Original shape (2074, 19, 128, 2), New shape (2074, 14, 128, 2)\n",
      "Processed val: Original shape (431, 19, 128, 2), New shape (431, 14, 128, 2)\n"
     ]
    }
   ],
   "source": [
    "import numpy as np\n",
    "\n",
    "# Base directory where the files are located\n",
    "base_dir = 'D:\\\\omer\\\\ST-SSL\\\\data\\\\NYCBike1\\\\'\n",
    "\n",
    "# Loop through each split and process the files\n",
    "for split in ['train', 'test', 'val']:\n",
    "    # Load the data\n",
    "    file_path = f'{base_dir}{split}.npz'\n",
    "    data = np.load(file_path)\n",
    "    \n",
    "    # Extract the 'x' data and remove the first 5 samples from it\n",
    "    x_data = data['x']\n",
    "    x_modified = x_data[:, 5:, :, :]  # Assuming the samples to remove are along the second axis\n",
    "    \n",
    "    # Save the modified data into a new .npz file\n",
    "    new_file_path = f'{base_dir}{split}_14.npz'\n",
    "    np.savez(new_file_path, x=x_modified, y=data['y'], x_offsets=data['x_offsets'][5:], y_offsets=data[\"y_offsets\"])  # Assuming you want to keep 'y' unchanged\n",
    "    \n",
    "    print(f\"Processed {split}: Original shape {data['x'].shape}, New shape {x_modified.shape}\")\n"
   ]
  },
  {
   "cell_type": "code",
   "execution_count": 6,
   "metadata": {},
   "outputs": [
    {
     "name": "stdout",
     "output_type": "stream",
     "text": [
      "(10, 14, 21)\n"
     ]
    }
   ],
   "source": [
    "import numpy as np\n",
    "arr = np.random.randn(10, 19, 21)\n",
    "\n",
    "arr2 = arr[:, 5:24, :]\n",
    "print(arr2.shape)"
   ]
  }
 ],
 "metadata": {
  "kernelspec": {
   "display_name": "i-jepaVENV",
   "language": "python",
   "name": "python3"
  },
  "language_info": {
   "codemirror_mode": {
    "name": "ipython",
    "version": 3
   },
   "file_extension": ".py",
   "mimetype": "text/x-python",
   "name": "python",
   "nbconvert_exporter": "python",
   "pygments_lexer": "ipython3",
   "version": "3.11.5"
  }
 },
 "nbformat": 4,
 "nbformat_minor": 2
}
