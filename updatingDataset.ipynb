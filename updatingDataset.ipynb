{
 "cells": [
  {
   "cell_type": "code",
   "execution_count": 3,
   "metadata": {},
   "outputs": [
    {
     "name": "stdout",
     "output_type": "stream",
     "text": [
      "x: shape: (1813, 19, 128, 2)\n",
      "y: shape: (1813, 1, 128, 2)\n",
      "x_offsets: shape: (19, 1)\n",
      "y_offsets: shape: (1, 1)\n",
      "x_offsets:  [[-25]\n",
      " [-24]\n",
      " [-23]\n",
      " [-22]\n",
      " [-21]\n",
      " [ -3]\n",
      " [ -2]\n",
      " [ -1]\n",
      " [  0]]\n",
      "y_offsets:  [[1]]\n"
     ]
    }
   ],
   "source": [
    "import numpy as np\n",
    "\n",
    "data_NYC = np.load('D:\\\\omer\\\\ST-SSL\\\\data\\\\NYCBike1\\\\train.npz')\n",
    "for file in data_NYC.files:\n",
    "    print(f\"{file}: shape: {data_NYC[file].shape}\")\n",
    "\n",
    "print(\"x_offsets: \", data_NYC['x_offsets'][10:])\n",
    "print(\"y_offsets: \", data_NYC['y_offsets'][:])\n",
    "# print(data_NYC['y_offsets'])\n",
    "# for split in ['train', 'test', 'val']:\n",
    "#     data= np.load('D:\\\\omer\\\\ST-SSL\\\\data\\\\NYCBike1\\\\{}.npz'.format(split))\n",
    "#     print(f\"{split}: \", data['x'].shape)"
   ]
  },
  {
   "cell_type": "code",
   "execution_count": 17,
   "metadata": {},
   "outputs": [
    {
     "name": "stdout",
     "output_type": "stream",
     "text": [
      "Processed train: Original shape (1813, 19, 128, 2), New shape (1813, 14, 128, 2)\n",
      "Processed test: Original shape (2074, 19, 128, 2), New shape (2074, 14, 128, 2)\n",
      "Processed val: Original shape (431, 19, 128, 2), New shape (431, 14, 128, 2)\n"
     ]
    }
   ],
   "source": [
    "import numpy as np\n",
    "\n",
    "# Base directory where the files are located\n",
    "base_dir = 'D:\\\\omer\\\\ST-SSL\\\\data\\\\NYCBike1\\\\'\n",
    "\n",
    "# Loop through each split and process the files\n",
    "for split in ['train', 'test', 'val']:\n",
    "    # Load the data\n",
    "    file_path = f'{base_dir}{split}.npz'\n",
    "    data = np.load(file_path)\n",
    "    \n",
    "    # Extract the 'x' data and remove the first 5 samples from it\n",
    "    x_data = data['x']\n",
    "    x_modified = x_data[:, 5:, :, :]  # Assuming the samples to remove are along the second axis\n",
    "    \n",
    "    # Save the modified data into a new .npz file\n",
    "    new_file_path = f'{base_dir}{split}_14.npz'\n",
    "    np.savez(new_file_path, x=x_modified, y=data['y'], x_offsets=data['x_offsets'][5:], y_offsets=data[\"y_offsets\"])  # Assuming you want to keep 'y' unchanged\n",
    "    \n",
    "    print(f\"Processed {split}: Original shape {data['x'].shape}, New shape {x_modified.shape}\")\n"
   ]
  }
 ],
 "metadata": {
  "kernelspec": {
   "display_name": "i-jepaVENV",
   "language": "python",
   "name": "python3"
  },
  "language_info": {
   "codemirror_mode": {
    "name": "ipython",
    "version": 3
   },
   "file_extension": ".py",
   "mimetype": "text/x-python",
   "name": "python",
   "nbconvert_exporter": "python",
   "pygments_lexer": "ipython3",
   "version": "3.11.5"
  }
 },
 "nbformat": 4,
 "nbformat_minor": 2
}
