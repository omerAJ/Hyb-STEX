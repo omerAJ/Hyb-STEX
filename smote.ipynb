{
 "cells": [
  {
   "cell_type": "code",
   "execution_count": 1,
   "metadata": {},
   "outputs": [
    {
     "name": "stdout",
     "output_type": "stream",
     "text": [
      "x_train shape: (1912, 35, 200, 2), y_train shape: (1912, 1, 200, 2), evs.shape: (1912, 1, 200, 2)\n"
     ]
    }
   ],
   "source": [
    "import numpy as np\n",
    "dataset = \"NYCTaxi\"\n",
    "data_path = fr\"D:\\omer\\ST-SSL\\data\\{dataset}\\train.npz\"\n",
    "x_train = np.load(data_path)[\"x\"]\n",
    "y_train = np.load(data_path)[\"y\"]\n",
    "extreme_values_binary_tensor = np.load(data_path)[\"evs\"]\n",
    "print(f\"x_train shape: {x_train.shape}, y_train shape: {y_train.shape}, evs.shape: {extreme_values_binary_tensor.shape}\")"
   ]
  },
  {
   "cell_type": "code",
   "execution_count": null,
   "metadata": {},
   "outputs": [],
   "source": []
  }
 ],
 "metadata": {
  "kernelspec": {
   "display_name": "ST-SSL",
   "language": "python",
   "name": "python3"
  },
  "language_info": {
   "codemirror_mode": {
    "name": "ipython",
    "version": 3
   },
   "file_extension": ".py",
   "mimetype": "text/x-python",
   "name": "python",
   "nbconvert_exporter": "python",
   "pygments_lexer": "ipython3",
   "version": "3.8.18"
  }
 },
 "nbformat": 4,
 "nbformat_minor": 2
}
