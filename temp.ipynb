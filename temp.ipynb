{
 "cells": [
  {
   "cell_type": "code",
   "execution_count": 2,
   "metadata": {},
   "outputs": [],
   "source": [
    "import sys\n",
    "sys.path.insert(0, 'D:\\\\omer\\\\v-jepa\\\\jepa\\\\src\\\\models\\\\utils')\n",
    "\n",
    "from pos_embs import get_2d_sincos_pos_embed, get_3d_sincos_pos_embed"
   ]
  },
  {
   "cell_type": "code",
   "execution_count": 16,
   "metadata": {},
   "outputs": [
    {
     "name": "stdout",
     "output_type": "stream",
     "text": [
      "<class 'numpy.ndarray'>\n",
      "torch.Size([1, 1600, 32])\n",
      "torch.Size([1, 32, 8, 20, 10])\n"
     ]
    }
   ],
   "source": [
    "import torch\n",
    "import torch.nn as nn\n",
    "pos_emb = get_3d_sincos_pos_embed(32, 8, 20, 10)\n",
    "print(type(pos_emb))\n",
    "pos_embed = nn.Parameter(\n",
    "            torch.zeros(1, 1600, 32),\n",
    "            requires_grad=False)\n",
    "\n",
    "pos_embed.copy_(torch.from_numpy(pos_emb).float().unsqueeze(0))\n",
    "print(pos_embed.shape)\n",
    "pos_embed = pos_embed.transpose(1, 2).view(1, 32, 8, 20, 10)\n",
    "print(pos_embed.shape)"
   ]
  },
  {
   "cell_type": "code",
   "execution_count": null,
   "metadata": {},
   "outputs": [],
   "source": []
  }
 ],
 "metadata": {
  "kernelspec": {
   "display_name": "i-jepaVENV",
   "language": "python",
   "name": "python3"
  },
  "language_info": {
   "codemirror_mode": {
    "name": "ipython",
    "version": 3
   },
   "file_extension": ".py",
   "mimetype": "text/x-python",
   "name": "python",
   "nbconvert_exporter": "python",
   "pygments_lexer": "ipython3",
   "version": "3.11.5"
  }
 },
 "nbformat": 4,
 "nbformat_minor": 2
}
