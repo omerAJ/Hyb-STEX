{
 "cells": [
  {
   "cell_type": "code",
   "execution_count": 19,
   "metadata": {},
   "outputs": [
    {
     "name": "stdout",
     "output_type": "stream",
     "text": [
      "(3023, 19, 128, 2) (3023, 1, 128, 2)\n",
      "(864, 19, 128, 2) (864, 1, 128, 2)\n",
      "(2074, 19, 128, 2) (2074, 1, 128, 2)\n",
      "(1813, 19, 128, 2) (1813, 1, 128, 2)\n",
      "Done\n"
     ]
    }
   ],
   "source": [
    "import numpy as np\n",
    "\n",
    "# Load the datasets\n",
    "train_data = np.load('D:\\\\omer\\\\ST-SSL\\\\data\\\\NYCBike1\\\\train.npz')\n",
    "test_data = np.load('D:\\\\omer\\\\ST-SSL\\\\data\\\\NYCBike1\\\\test.npz')\n",
    "\n",
    "split_index = int(len(train_data['x']) * 0.6)\n",
    "x, y = train_data[\"x\"], train_data[\"y\"]  #*inserts laughuing emoji* x1000 \n",
    "x_offsets, y_offsets = train_data[\"x_offsets\"], train_data[\"y_offsets\"]  #*inserts laughuing emoji* x1000\n",
    "print(x.shape, y.shape)  \n",
    "x_test, y_test = test_data[\"x\"], test_data[\"y\"]  #*inserts laughuing emoji* x1000 \n",
    "print(x_test.shape, y_test.shape)  \n",
    "\n",
    "x_test_new = np.concatenate((x[split_index:], x_test), axis=0)\n",
    "y_test_new = np.concatenate((y[split_index:], y_test), axis=0)\n",
    "\n",
    "x_train_new = x[:split_index]\n",
    "y_train_new = y[:split_index]\n",
    "  #thank\n",
    "print(x_test_new.shape, y_test_new.shape)\n",
    "print(x_train_new.shape, y_train_new.shape)\n",
    "\n",
    "# train_data[\"x\"] = x_train_new\n",
    "# train_data[\"y\"] = y_train_new\n",
    "# test_data[\"x\"] = x_test_new\n",
    "# test_data[\"y\"] = y_test_new\n",
    "# now save this to new file, also do same for train (train kelie ni krna) khud kar kaam chora, aight :(\n",
    "# Save the updated datasets\n",
    "train_new_path = 'D:\\\\omer\\\\ST-SSL\\\\data\\\\NYCBike1\\\\train_new.npz'\n",
    "test_new_path = 'D:\\\\omer\\\\ST-SSL\\\\data\\\\NYCBike1\\\\test_new.npz'\n",
    "np.savez(train_new_path, x=x_train_new, y=y_train_new, x_offsets=x_offsets, y_offsets=y_offsets)\n",
    "np.savez(test_new_path, x=x_test_new, y=y_test_new, x_offsets=x_offsets, y_offsets=y_offsets)\n",
    "print(\"Done\")\n"
   ]
  },
  {
   "cell_type": "markdown",
   "metadata": {},
   "source": [
    "old ratio: 125:36\n",
    "new ratio: 86:75\n",
    "# days"
   ]
  },
  {
   "cell_type": "code",
   "execution_count": 16,
   "metadata": {},
   "outputs": [
    {
     "data": {
      "text/plain": [
       "75.54166666666667"
      ]
     },
     "execution_count": 16,
     "metadata": {},
     "output_type": "execute_result"
    }
   ],
   "source": [
    "1813/24\n",
    "# 3023/24"
   ]
  }
 ],
 "metadata": {
  "kernelspec": {
   "display_name": "i-jepaVENV",
   "language": "python",
   "name": "python3"
  },
  "language_info": {
   "codemirror_mode": {
    "name": "ipython",
    "version": 3
   },
   "file_extension": ".py",
   "mimetype": "text/x-python",
   "name": "python",
   "nbconvert_exporter": "python",
   "pygments_lexer": "ipython3",
   "version": "3.11.5"
  }
 },
 "nbformat": 4,
 "nbformat_minor": 2
}
