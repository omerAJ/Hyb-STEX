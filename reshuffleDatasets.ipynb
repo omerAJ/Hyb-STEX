{
 "cells": [
  {
   "cell_type": "code",
   "execution_count": 1,
   "metadata": {},
   "outputs": [
    {
     "name": "stdout",
     "output_type": "stream",
     "text": [
      "og shapes (train) (478, 35, 200, 2) (478, 1, 200, 2)\n",
      "og shapes (test) (1980, 35, 200, 2) (1980, 1, 200, 2)\n",
      "new shapes (train) (47, 35, 200, 2) (47, 1, 200, 2)\n",
      "new shapes (test) (2411, 35, 200, 2) (2411, 1, 200, 2)\n",
      "Done\n"
     ]
    }
   ],
   "source": [
    "import numpy as np\n",
    "\n",
    "# Load the datasets\n",
    "train_data = np.load('D:\\\\omer\\\\ST-SSL\\\\data\\\\NYCBike2\\\\train.npz')\n",
    "test_data = np.load('D:\\\\omer\\\\ST-SSL\\\\data\\\\NYCBike2\\\\test.npz')\n",
    "\n",
    "split_index = int(len(train_data['x']) * 0.10)\n",
    "x, y = train_data[\"x\"], train_data[\"y\"]  #*inserts laughuing emoji* x1000 \n",
    "x_offsets, y_offsets = train_data[\"x_offsets\"], train_data[\"y_offsets\"]  #*inserts laughuing emoji* x1000\n",
    "print(\"og shapes (train)\", x.shape, y.shape)  \n",
    "x_test, y_test = test_data[\"x\"], test_data[\"y\"]  #*inserts laughuing emoji* x1000 \n",
    "print(\"og shapes (test)\", x_test.shape, y_test.shape)  \n",
    "\n",
    "x_test_new = np.concatenate((x[split_index:], x_test), axis=0)\n",
    "y_test_new = np.concatenate((y[split_index:], y_test), axis=0)\n",
    "\n",
    "x_train_new = x[:split_index]\n",
    "y_train_new = y[:split_index]\n",
    "  #thank\n",
    "print(\"new shapes (train)\", x_train_new.shape, y_train_new.shape)\n",
    "print(\"new shapes (test)\", x_test_new.shape, y_test_new.shape)\n",
    "\n",
    "# train_data[\"x\"] = x_train_new\n",
    "# train_data[\"y\"] = y_train_new\n",
    "# test_data[\"x\"] = x_test_new\n",
    "# test_data[\"y\"] = y_test_new\n",
    "# now save this to new file, also do same for train (train kelie ni krna) khud kar kaam chora, aight :(\n",
    "# Save the updated datasets\n",
    "train_new_path = 'D:\\\\omer\\\\ST-SSL\\\\data\\\\NYCBike2\\\\train_new.npz'\n",
    "test_new_path = 'D:\\\\omer\\\\ST-SSL\\\\data\\\\NYCBike2\\\\test_new.npz'\n",
    "np.savez(train_new_path, x=x_train_new, y=y_train_new, x_offsets=x_offsets, y_offsets=y_offsets)\n",
    "np.savez(test_new_path, x=x_test_new, y=y_test_new, x_offsets=x_offsets, y_offsets=y_offsets)\n",
    "print(\"Done\")\n"
   ]
  },
  {
   "cell_type": "markdown",
   "metadata": {},
   "source": [
    "NB1\n",
    "old ratio: 125:36\n",
    "new ratio: 86:75\n",
    "# days\n",
    "\n",
    "NT\n",
    "old ratio: 40:11\n",
    "new ratio: 20:31\n",
    "# days\n",
    "\n",
    "NB2\n",
    "old ratio: 40:11\n",
    "new ratio: 1:50\n",
    "# days"
   ]
  },
  {
   "cell_type": "code",
   "execution_count": 1,
   "metadata": {},
   "outputs": [
    {
     "data": {
      "text/plain": [
       "50.229166666666664"
      ]
     },
     "execution_count": 1,
     "metadata": {},
     "output_type": "execute_result"
    }
   ],
   "source": [
    "2411/48\n",
    "# 3023/24"
   ]
  }
 ],
 "metadata": {
  "kernelspec": {
   "display_name": "i-jepaVENV",
   "language": "python",
   "name": "python3"
  },
  "language_info": {
   "codemirror_mode": {
    "name": "ipython",
    "version": 3
   },
   "file_extension": ".py",
   "mimetype": "text/x-python",
   "name": "python",
   "nbconvert_exporter": "python",
   "pygments_lexer": "ipython3",
   "version": "3.11.5"
  }
 },
 "nbformat": 4,
 "nbformat_minor": 2
}
