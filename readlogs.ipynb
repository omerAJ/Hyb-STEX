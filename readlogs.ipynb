{
 "cells": [
  {
   "cell_type": "code",
   "execution_count": 1,
   "metadata": {},
   "outputs": [],
   "source": [
    "import os\n",
    "import re\n",
    "import csv\n",
    "\n",
    "def parse_log_file(log_file_path):\n",
    "    # Define patterns to search for the required metrics\n",
    "    best_loss_pattern = r\"best loss: ([\\d.]+)\"\n",
    "    inflow_mae_pattern = r\"INFLOW, MAE: ([\\d.]+),\"\n",
    "    outflow_mae_pattern = r\"OUTFLOW, MAE: ([\\d.]+),\"\n",
    "    inflow_mape_pattern = r\"INFLOW, MAE: [\\d.]+, MAPE: ([\\d.]+)%\"\n",
    "    outflow_mape_pattern = r\"OUTFLOW, MAE: [\\d.]+, MAPE: ([\\d.]+)%\"\n",
    "\n",
    "    # Initialize variables to store the extracted values\n",
    "    metrics = {'Best Loss': None, 'INFLOW MAE': None, 'OUTFLOW MAE': None, 'INFLOW MAPE': None, 'OUTFLOW MAPE': None}\n",
    "\n",
    "    with open(log_file_path, 'r') as file:\n",
    "        log_data = file.read()\n",
    "        # Search and extract metrics from log data\n",
    "        metrics['Best Loss'] = re.search(best_loss_pattern, log_data).group(1) if re.search(best_loss_pattern, log_data) else None\n",
    "        metrics['INFLOW MAE'] = re.search(inflow_mae_pattern, log_data).group(1) if re.search(inflow_mae_pattern, log_data) else None\n",
    "        metrics['OUTFLOW MAE'] = re.search(outflow_mae_pattern, log_data).group(1) if re.search(outflow_mae_pattern, log_data) else None\n",
    "        metrics['INFLOW MAPE'] = re.search(inflow_mape_pattern, log_data).group(1) if re.search(inflow_mape_pattern, log_data) else None\n",
    "        metrics['OUTFLOW MAPE'] = re.search(outflow_mape_pattern, log_data).group(1) if re.search(outflow_mape_pattern, log_data) else None\n",
    "\n",
    "    return metrics\n",
    "\n",
    "def process_dataset_directory(dataset_directory, output_csv_file):\n",
    "    # Prepare the CSV file\n",
    "    with open(output_csv_file, mode='w', newline='') as file:\n",
    "        writer = csv.writer(file)\n",
    "        writer.writerow(['Experiment Name', 'Best Loss', 'INFLOW MAE', 'OUTFLOW MAE', 'INFLOW MAPE', 'OUTFLOW MAPE'])\n",
    "\n",
    "        # Walk through the dataset directory\n",
    "        for root, dirs, files in os.walk(dataset_directory):\n",
    "            for name in files:\n",
    "                if name.endswith(\".log\"):\n",
    "                    log_file_path = os.path.join(root, name)\n",
    "                    experiment_name = os.path.basename(os.path.dirname(os.path.dirname(log_file_path)))  # Get the experiment name from the path\n",
    "                    metrics = parse_log_file(log_file_path)\n",
    "                    writer.writerow([experiment_name] + list(metrics.values()))\n",
    "\n",
    "# Example usage\n",
    "dataset_directory = r\"D:\\omer\\ST-SSL\\experiments\\NYCBike1\" # Adjust this path to your dataset directory\n",
    "output_csv_file = r\"D:\\omer\\ST-SSL\\experiments\\NYCBike1\\metrics_NB1.csv\"\n",
    "process_dataset_directory(dataset_directory, output_csv_file)"
   ]
  }
 ],
 "metadata": {
  "kernelspec": {
   "display_name": "i-jepaVENV",
   "language": "python",
   "name": "python3"
  },
  "language_info": {
   "codemirror_mode": {
    "name": "ipython",
    "version": 3
   },
   "file_extension": ".py",
   "mimetype": "text/x-python",
   "name": "python",
   "nbconvert_exporter": "python",
   "pygments_lexer": "ipython3",
   "version": "3.11.5"
  }
 },
 "nbformat": 4,
 "nbformat_minor": 2
}
