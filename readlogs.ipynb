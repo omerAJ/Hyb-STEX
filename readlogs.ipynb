import os
import re
import csv

def parse_log_file(log_file_path):
    # Define patterns to search for the required metrics
    best_loss_pattern = r"best loss: ([\d.]+)"
    inflow_mae_pattern = r"INFLOW, MAE: ([\d.]+),"
    outflow_mae_pattern = r"OUTFLOW, MAE: ([\d.]+),"
    inflow_mape_pattern = r"INFLOW, MAE: [\d.]+, MAPE: ([\d.]+)%"
    outflow_mape_pattern = r"OUTFLOW, MAE: [\d.]+, MAPE: ([\d.]+)%"

    # Initialize variables to store the extracted values
    metrics = {'Best Loss': None, 'INFLOW MAE': None, 'OUTFLOW MAE': None, 'INFLOW MAPE': None, 'OUTFLOW MAPE': None}

    with open(log_file_path, 'r') as file:
        log_data = file.read()
        # Search and extract metrics from log data
        metrics['Best Loss'] = re.search(best_loss_pattern, log_data).group(1) if re.search(best_loss_pattern, log_data) else None
        metrics['INFLOW MAE'] = re.search(inflow_mae_pattern, log_data).group(1) if re.search(inflow_mae_pattern, log_data) else None
        metrics['OUTFLOW MAE'] = re.search(outflow_mae_pattern, log_data).group(1) if re.search(outflow_mae_pattern, log_data) else None
        metrics['INFLOW MAPE'] = re.search(inflow_mape_pattern, log_data).group(1) if re.search(inflow_mape_pattern, log_data) else None
        metrics['OUTFLOW MAPE'] = re.search(outflow_mape_pattern, log_data).group(1) if re.search(outflow_mape_pattern, log_data) else None

    return metrics

def process_dataset_directory(dataset_directory, output_csv_file):
    # Prepare the CSV file
    with open(output_csv_file, mode='w', newline='') as file:
        writer = csv.writer(file)
        writer.writerow(['Experiment Name', 'Best Loss', 'INFLOW MAE', 'OUTFLOW MAE', 'INFLOW MAPE', 'OUTFLOW MAPE'])

        # Walk through the dataset directory
        for root, dirs, files in os.walk(dataset_directory):
            for name in files:
                if name.endswith(".log"):
                    log_file_path = os.path.join(root, name)
                    experiment_name = os.path.basename(os.path.dirname(os.path.dirname(log_file_path)))  # Get the experiment name from the path
                    metrics = parse_log_file(log_file_path)
                    writer.writerow([experiment_name] + list(metrics.values()))

# Example usage
dataset_directory = r"D:\omer\ST-SSL\experiments\BJTaxi" # Adjust this path to your dataset directory
output_csv_file = r"D:\omer\ST-SSL\experiments\BJTaxi\metrics_BJ.csv"
process_dataset_directory(dataset_directory, output_csv_file)
