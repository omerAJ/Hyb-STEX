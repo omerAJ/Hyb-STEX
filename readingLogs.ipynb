{
 "cells": [
  {
   "cell_type": "code",
   "execution_count": 9,
   "metadata": {},
   "outputs": [
    {
     "name": "stdout",
     "output_type": "stream",
     "text": [
      "D:\\omer\\ST-SSL\\experiments\\NYCBike1\\A1\\run.log\n",
      "NYCBike1_A1\n",
      "D:\\omer\\ST-SSL\\experiments\\NYCBike1\\A2\\run.log\n",
      "NYCBike1_A2\n",
      "D:\\omer\\ST-SSL\\experiments\\NYCBike1\\A3\\run.log\n",
      "NYCBike1_A3\n",
      "D:\\omer\\ST-SSL\\experiments\\NYCBike1\\B1\\run.log\n",
      "NYCBike1_B1\n",
      "D:\\omer\\ST-SSL\\experiments\\NYCBike1\\B2\\run.log\n",
      "NYCBike1_B2\n",
      "D:\\omer\\ST-SSL\\experiments\\NYCBike1\\C1\\run.log\n",
      "NYCBike1_C1\n",
      "D:\\omer\\ST-SSL\\experiments\\NYCBike1\\C2\\run.log\n",
      "NYCBike1_C2\n",
      "D:\\omer\\ST-SSL\\experiments\\NYCBike1\\D1\\run.log\n",
      "NYCBike1_D1\n",
      "D:\\omer\\ST-SSL\\experiments\\NYCBike1\\D2\\run.log\n",
      "NYCBike1_D2\n",
      "D:\\omer\\ST-SSL\\experiments\\NYCBike1\\pred_5__seed=3\\20240322-153433\\run.log\n",
      "pred_5__seed=3_53433\n"
     ]
    }
   ],
   "source": [
    "import os\n",
    "import re\n",
    "import csv\n",
    "\n",
    "def parse_log_file(log_file_path):\n",
    "    # Define patterns to search for the required metrics\n",
    "    best_loss_pattern = r\"best loss: ([\\d.]+)\"\n",
    "    inflow_mae_pattern = r\"INFLOW, MAE: ([\\d.]+),\"\n",
    "    outflow_mae_pattern = r\"OUTFLOW, MAE: ([\\d.]+),\"\n",
    "    inflow_mape_pattern = r\"INFLOW, MAE: [\\d.]+, MAPE: ([\\d.]+)%\"\n",
    "    outflow_mape_pattern = r\"OUTFLOW, MAE: [\\d.]+, MAPE: ([\\d.]+)%\"\n",
    "\n",
    "    # Initialize variables to store the extracted values\n",
    "    metrics = {'Best Loss': None, 'INFLOW MAE': None, 'OUTFLOW MAE': None, 'INFLOW MAPE': None, 'OUTFLOW MAPE': None}\n",
    "\n",
    "    with open(log_file_path, 'r') as file:\n",
    "        log_data = file.read()\n",
    "        # Search and extract metrics from log data\n",
    "        metrics['Best Loss'] = re.search(best_loss_pattern, log_data).group(1) if re.search(best_loss_pattern, log_data) else None\n",
    "        metrics['INFLOW MAE'] = re.search(inflow_mae_pattern, log_data).group(1) if re.search(inflow_mae_pattern, log_data) else None\n",
    "        metrics['OUTFLOW MAE'] = re.search(outflow_mae_pattern, log_data).group(1) if re.search(outflow_mae_pattern, log_data) else None\n",
    "        metrics['INFLOW MAPE'] = re.search(inflow_mape_pattern, log_data).group(1) if re.search(inflow_mape_pattern, log_data) else None\n",
    "        metrics['OUTFLOW MAPE'] = re.search(outflow_mape_pattern, log_data).group(1) if re.search(outflow_mape_pattern, log_data) else None\n",
    "\n",
    "    return metrics\n",
    "\n",
    "def process_dataset_directory(dataset_directory, output_csv_file):\n",
    "    # Prepare the CSV file\n",
    "    with open(output_csv_file, mode='w', newline='') as file:\n",
    "        writer = csv.writer(file)\n",
    "        writer.writerow(['Experiment Name', 'Best Loss', 'INFLOW MAE', 'OUTFLOW MAE', 'INFLOW MAPE', 'OUTFLOW MAPE'])\n",
    "\n",
    "        # Walk through the dataset directory\n",
    "        for root, dirs, files in os.walk(dataset_directory):\n",
    "            for name in files:\n",
    "                if name.endswith(\".log\"):\n",
    "                    log_file_path = os.path.join(root, name)\n",
    "                    print(log_file_path)\n",
    "                    print(os.path.basename(os.path.dirname(os.path.dirname(log_file_path))) + \"_\" + os.path.basename(os.path.dirname(log_file_path))[-5:])\n",
    "                    # experiment_name = os.path.basename(os.path.dirname(os.path.dirname(log_file_path)))  # Get the experiment name from the path\n",
    "                    experiment_name = os.path.basename(os.path.dirname(os.path.dirname(log_file_path))) + \"_\" + os.path.basename(os.path.dirname(log_file_path))[-5:]  # Get the experiment name from the path\n",
    "                    metrics = parse_log_file(log_file_path)\n",
    "                    writer.writerow([experiment_name] + list(metrics.values()))\n",
    "\n",
    "# Example usage\n",
    "dataset = \"NYCBike1\"\n",
    "dataset_directory = fr\"D:\\omer\\ST-SSL\\experiments\\{dataset}\" # Adjust this path to your dataset directory\n",
    "output_csv_file = fr\"D:\\omer\\ST-SSL\\experiments\\{dataset}\\metrics_{dataset}.csv\"\n",
    "process_dataset_directory(dataset_directory, output_csv_file)\n"
   ]
  }
 ],
 "metadata": {
  "kernelspec": {
   "display_name": "i-jepaVENV",
   "language": "python",
   "name": "python3"
  },
  "language_info": {
   "codemirror_mode": {
    "name": "ipython",
    "version": 3
   },
   "file_extension": ".py",
   "mimetype": "text/x-python",
   "name": "python",
   "nbconvert_exporter": "python",
   "pygments_lexer": "ipython3",
   "version": "3.11.5"
  }
 },
 "nbformat": 4,
 "nbformat_minor": 2
}
