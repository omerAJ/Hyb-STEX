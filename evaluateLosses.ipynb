{
 "cells": [
  {
   "cell_type": "code",
   "execution_count": 9,
   "metadata": {},
   "outputs": [
    {
     "name": "stdout",
     "output_type": "stream",
     "text": [
      "data['x_train'].shape:  (1912, 35, 200, 2) (1912, 1, 200, 2)\n"
     ]
    }
   ],
   "source": [
    "from lib.dataloader import get_dataloader\n",
    "from model.models import STSSL\n",
    "import yaml\n",
    "import argparse\n",
    "from lib.utils import (\n",
    "    init_seed,\n",
    "    get_model_params,\n",
    "    load_graph, \n",
    ")\n",
    "\n",
    "class Args:\n",
    "    def __init__(self):\n",
    "        self.data_dir = 'data'\n",
    "        self.dataset = 'NYCTaxi'\n",
    "        self.batch_size = 32\n",
    "        self.test_batch_size = 32\n",
    "        self.device = 'cuda'\n",
    "        self.seed = 1\n",
    "        self.mode = 'train'\n",
    "        self.best_path = None\n",
    "        self.debug = False\n",
    "        self.input_length = 35\n",
    "        self.graph_file = 'data/NYCTaxi/adj_mx.npz'\n",
    "        self.num_nodes = 200\n",
    "        self.d_input = 2\n",
    "        self.d_output = 2\n",
    "        self.d_model = 64\n",
    "        self.dropout = 0.1\n",
    "        self.percent = 0.1\n",
    "        self.shm_temp = 0.5\n",
    "        self.nmb_prototype = 4\n",
    "        self.yita = 0.5\n",
    "        self.epochs = 1000\n",
    "        self.lr_init = 0.001\n",
    "        self.early_stop = True\n",
    "        self.early_stop_patience = 35\n",
    "        self.grad_norm = True\n",
    "        self.max_grad_norm = 5\n",
    "        self.use_dwa = True\n",
    "        self.temp = 2\n",
    "        self.graph_init = 'shared_lpe_raw'\n",
    "        self.self_attention_flag = True\n",
    "        self.cross_attention_flag = False\n",
    "        self.feedforward_flag = False\n",
    "        self.layer_norm_flag = False\n",
    "        self.additional_sa_flag = False\n",
    "        self.learnable_flag = False\n",
    "        self.cheb_order = 3\n",
    "args = Args()\n",
    "dataloader = get_dataloader(\n",
    "        data_dir=args.data_dir, \n",
    "        dataset=args.dataset, \n",
    "        batch_size=args.batch_size, \n",
    "        test_batch_size=args.test_batch_size,\n",
    "        scalar_type='Standard'\n",
    "    )\n",
    "\n",
    "\n",
    "model = STSSL(args).to(args.device)\n",
    "model_parameters = get_model_params([model])"
   ]
  },
  {
   "cell_type": "code",
   "execution_count": 10,
   "metadata": {},
   "outputs": [],
   "source": [
    "import torch\n",
    "import numpy as np\n",
    "from lib.metrics import test_metrics\n",
    "\n",
    "@staticmethod\n",
    "def test(model, dataloader, scaler, graph, logger, args):\n",
    "    model.eval()\n",
    "    y_pred = []\n",
    "    y_true = []\n",
    "    with torch.no_grad():\n",
    "        for batch_idx, (data, target) in enumerate(dataloader):\n",
    "            repr1, repr2 = model(data, graph)                \n",
    "            pred_output = model.predict(repr1, repr2)\n",
    "\n",
    "            y_true.append(target)\n",
    "            y_pred.append(pred_output)\n",
    "    y_true = scaler.inverse_transform(torch.cat(y_true, dim=0))\n",
    "    y_pred = scaler.inverse_transform(torch.cat(y_pred, dim=0))\n",
    "\n",
    "    test_results = []\n",
    "    # inflow\n",
    "    mae, mape, masked_mae, masked_counts, unmasked_counts = test_metrics(y_pred[..., 0], y_true[..., 0])\n",
    "    print(\"INFLOW, MAE: {:.2f}, MAPE: {:.4f}%, masked_MAE: {:.2f}, masked_counts: {}, unmasked_counts: {}\".format(mae, mape*100, masked_mae, masked_counts, unmasked_counts))\n",
    "    test_results.append([mae, mape])\n",
    "    # outflow \n",
    "    mae, mape, masked_mae, _, _ = test_metrics(y_pred[..., 1], y_true[..., 1])\n",
    "    print(\"OUTFLOW, MAE: {:.2f}, MAPE: {:.4f}%, masked_MAE: {:.2f}\".format(mae, mape*100, masked_mae))\n",
    "    test_results.append([mae, mape]) \n",
    "\n",
    "    return np.stack(test_results, axis=0)"
   ]
  },
  {
   "cell_type": "code",
   "execution_count": 11,
   "metadata": {},
   "outputs": [
    {
     "name": "stdout",
     "output_type": "stream",
     "text": [
      "INFLOW, MAE: 11.68, MAPE: 16.1910%, masked_MAE: 16.86, masked_counts: 33712, unmasked_counts: 75488\n",
      "OUTFLOW, MAE: 9.64, MAPE: 16.9679%, masked_MAE: 17.96\n"
     ]
    }
   ],
   "source": [
    "# model_path = r\"D:\\omer\\ST-SSL\\experiments\\NYCTaxi\\pred__seed=1\\20240607-132543\\8_neighbours adj_mx, 2 sa on 128\\best_model.pth\"\n",
    "model_path = r\"D:\\omer\\ST-SSL\\experiments\\NYCTaxi\\pred__seed=1\\20240607-131720\\shared_lpe_raw adj_mx, 2 sa on 128\\best_model.pth\"\n",
    "model = STSSL(args).to(args.device)\n",
    "model_parameters = get_model_params([model])\n",
    "model.load_state_dict(torch.load(model_path)[\"model\"])\n",
    "model.to(args.device)\n",
    "model.eval()\n",
    "\n",
    "test_results = test(model, dataloader['test'], dataloader['scaler'], load_graph(args.graph_file), None, args)"
   ]
  },
  {
   "cell_type": "code",
   "execution_count": 4,
   "metadata": {},
   "outputs": [
    {
     "data": {
      "text/plain": [
       "18"
      ]
     },
     "execution_count": 4,
     "metadata": {},
     "output_type": "execute_result"
    }
   ],
   "source": [
    "len(dataloader['test'])"
   ]
  },
  {
   "cell_type": "code",
   "execution_count": 6,
   "metadata": {},
   "outputs": [
    {
     "data": {
      "text/plain": [
       "81488"
      ]
     },
     "execution_count": 6,
     "metadata": {},
     "output_type": "execute_result"
    }
   ],
   "source": [
    "32*18*200 - 33712"
   ]
  }
 ],
 "metadata": {
  "kernelspec": {
   "display_name": "i-jepaVENV",
   "language": "python",
   "name": "python3"
  },
  "language_info": {
   "codemirror_mode": {
    "name": "ipython",
    "version": 3
   },
   "file_extension": ".py",
   "mimetype": "text/x-python",
   "name": "python",
   "nbconvert_exporter": "python",
   "pygments_lexer": "ipython3",
   "version": "3.11.5"
  }
 },
 "nbformat": 4,
 "nbformat_minor": 2
}
